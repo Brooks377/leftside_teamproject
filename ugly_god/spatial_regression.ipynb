{
 "cells": [
  {
   "cell_type": "markdown",
   "id": "2a37d86f-af1a-4c40-a8f2-682308d84af7",
   "metadata": {},
   "source": [
    "# Spatial Regression\n",
    "- In other words, do airBnB hosts care what the prices of nearby listings are?"
   ]
  },
  {
   "cell_type": "markdown",
   "id": "ae41442e-0ba5-49ee-bc98-78805811b395",
   "metadata": {},
   "source": [
    "## First I Run a regular regression, doesn't have to be very good"
   ]
  },
  {
   "cell_type": "code",
   "execution_count": 1,
   "id": "e74ec8a5-16cc-4eb5-9e9f-89b4b9015567",
   "metadata": {},
   "outputs": [],
   "source": [
    "# there have been changes to the shapely/geopandas combo\n",
    "# this fixes an error warning\n",
    "import os\n",
    "os.environ['USE_PYGEOS'] = '0'"
   ]
  },
  {
   "cell_type": "code",
   "execution_count": 2,
   "id": "d3cb0f51-9f5f-4908-8908-18e403bde700",
   "metadata": {},
   "outputs": [],
   "source": [
    "# !pip install spreg\n",
    "# !pip install libpysal\n",
    "import shapely\n",
    "import pandas as pd\n",
    "from statsmodels.formula.api import ols as sm_ols\n",
    "import numpy as np\n",
    "import seaborn as sns\n",
    "import matplotlib.pyplot as plt\n",
    "import statsmodels.api as sm\n",
    "from libpysal.weights import KNN\n",
    "from libpysal.cg import KDTree\n",
    "import spreg\n",
    "import scipy.stats as stats"
   ]
  },
  {
   "cell_type": "code",
   "execution_count": 3,
   "id": "76f01a6e-0c66-45f6-a1eb-67a5b2cba460",
   "metadata": {},
   "outputs": [],
   "source": [
    "pd.set_option('display.max_columns', 150)"
   ]
  },
  {
   "cell_type": "code",
   "execution_count": 4,
   "id": "4191785a-ed7e-4994-ae1b-36bbdb3cddbd",
   "metadata": {},
   "outputs": [],
   "source": [
    "# Boston airbnb listings data\n",
    "listings = pd.read_csv('../inputs/listings.csv.gz', compression='gzip')"
   ]
  },
  {
   "cell_type": "code",
   "execution_count": 5,
   "id": "6183f193-7e95-401a-b8bc-91fe6671a919",
   "metadata": {},
   "outputs": [],
   "source": [
    "# getting number of bathrooms as a number for regression (might do as category)\n",
    "num_pattern = r'(\\d+\\.*\\d*)'\n",
    "listings['bath_num'] = listings['bathrooms_text'].str.extract(num_pattern).astype(float)"
   ]
  },
  {
   "cell_type": "code",
   "execution_count": 6,
   "id": "fe055617-9c8f-41d0-9e2f-2a55698245c0",
   "metadata": {},
   "outputs": [],
   "source": [
    "# make the price a float\n",
    "listings['price'] = listings['price'].apply(lambda x: float(x.replace('$', '').replace(',', '')))"
   ]
  },
  {
   "cell_type": "code",
   "execution_count": 7,
   "id": "1c92e780-8eea-45ad-8b27-0feabe427bbc",
   "metadata": {},
   "outputs": [
    {
     "data": {
      "text/plain": [
       "id                                              0.014822\n",
       "scrape_id                                            NaN\n",
       "host_id                                         0.027121\n",
       "host_listings_count                             0.011211\n",
       "host_total_listings_count                      -0.011811\n",
       "neighbourhood_group_cleansed                         NaN\n",
       "latitude                                        0.081329\n",
       "longitude                                       0.090658\n",
       "accommodates                                    0.382871\n",
       "bathrooms                                            NaN\n",
       "bedrooms                                        0.213189\n",
       "beds                                            0.355472\n",
       "price                                           1.000000\n",
       "minimum_nights                                 -0.135298\n",
       "maximum_nights                                  0.018940\n",
       "minimum_minimum_nights                         -0.083016\n",
       "maximum_minimum_nights                         -0.028242\n",
       "minimum_maximum_nights                          0.030746\n",
       "maximum_maximum_nights                          0.028094\n",
       "minimum_nights_avg_ntm                         -0.034456\n",
       "maximum_nights_avg_ntm                          0.032880\n",
       "calendar_updated                                     NaN\n",
       "availability_30                                 0.027579\n",
       "availability_60                                 0.029545\n",
       "availability_90                                 0.015067\n",
       "availability_365                                0.030878\n",
       "number_of_reviews                              -0.026665\n",
       "number_of_reviews_ltm                           0.006948\n",
       "number_of_reviews_l30d                         -0.003253\n",
       "review_scores_rating                            0.034247\n",
       "review_scores_accuracy                         -0.008884\n",
       "review_scores_cleanliness                       0.054549\n",
       "review_scores_checkin                           0.005743\n",
       "review_scores_communication                     0.005842\n",
       "review_scores_location                          0.079714\n",
       "review_scores_value                             0.001143\n",
       "calculated_host_listings_count                 -0.064095\n",
       "calculated_host_listings_count_entire_homes     0.027681\n",
       "calculated_host_listings_count_private_rooms   -0.139001\n",
       "calculated_host_listings_count_shared_rooms    -0.050357\n",
       "reviews_per_month                               0.011863\n",
       "bath_num                                        0.314205\n",
       "Name: price, dtype: float64"
      ]
     },
     "execution_count": 7,
     "metadata": {},
     "output_type": "execute_result"
    }
   ],
   "source": [
    "# list of correlations in listings data\n",
    "# clearly we need to merge in additional data\n",
    "# or go straight to avg for neighborhood/tract for prediction\n",
    "#     - see if there are census-zone-level stats that correlate better\n",
    "listings.corr(numeric_only=True).iloc[12]"
   ]
  },
  {
   "cell_type": "code",
   "execution_count": 8,
   "id": "1aaf605a-047f-4f23-87a7-bda631606fbc",
   "metadata": {},
   "outputs": [],
   "source": [
    "# get some variables that I think could predict price + geography\n",
    "listings_4reg = listings[['bath_num','minimum_nights','bathrooms_text','beds', 'bedrooms','accommodates','price','latitude', 'longitude']].dropna().reset_index(drop=True)"
   ]
  },
  {
   "cell_type": "code",
   "execution_count": 9,
   "id": "81f40044-f912-4970-9f64-540a1c2c3e2f",
   "metadata": {},
   "outputs": [],
   "source": [
    "# create log(price) for regression\n",
    "listings_4reg = (listings_4reg.assign(l_price = np.log(listings_4reg['price'])))"
   ]
  },
  {
   "cell_type": "code",
   "execution_count": 10,
   "id": "24ded201-9521-4b1b-8bb0-11d04474a79f",
   "metadata": {},
   "outputs": [],
   "source": [
    "# create regression a la assignment 6\n",
    "#     - terrible r2 doesn't bode well for predictions\n",
    "#     - But it doesn't matter for this part, cus we just wanna see if there is spatial correlation\n",
    "reg = sm_ols('l_price ~ accommodates + bathrooms_text + bedrooms', data=listings_4reg).fit()"
   ]
  },
  {
   "cell_type": "code",
   "execution_count": 11,
   "id": "d62cf161-28f2-4ed1-9757-7a15d8fe5328",
   "metadata": {},
   "outputs": [
    {
     "data": {
      "text/html": [
       "<table class=\"simpletable\">\n",
       "<caption>OLS Regression Results</caption>\n",
       "<tr>\n",
       "  <th>Dep. Variable:</th>         <td>l_price</td>     <th>  R-squared:         </th> <td>   0.551</td>\n",
       "</tr>\n",
       "<tr>\n",
       "  <th>Model:</th>                   <td>OLS</td>       <th>  Adj. R-squared:    </th> <td>   0.548</td>\n",
       "</tr>\n",
       "<tr>\n",
       "  <th>Method:</th>             <td>Least Squares</td>  <th>  F-statistic:       </th> <td>   193.7</td>\n",
       "</tr>\n",
       "<tr>\n",
       "  <th>Date:</th>             <td>Tue, 25 Apr 2023</td> <th>  Prob (F-statistic):</th>  <td>  0.00</td> \n",
       "</tr>\n",
       "<tr>\n",
       "  <th>Time:</th>                 <td>04:28:49</td>     <th>  Log-Likelihood:    </th> <td> -2424.6</td>\n",
       "</tr>\n",
       "<tr>\n",
       "  <th>No. Observations:</th>      <td>  3343</td>      <th>  AIC:               </th> <td>   4893.</td>\n",
       "</tr>\n",
       "<tr>\n",
       "  <th>Df Residuals:</th>          <td>  3321</td>      <th>  BIC:               </th> <td>   5028.</td>\n",
       "</tr>\n",
       "<tr>\n",
       "  <th>Df Model:</th>              <td>    21</td>      <th>                     </th>     <td> </td>   \n",
       "</tr>\n",
       "<tr>\n",
       "  <th>Covariance Type:</th>      <td>nonrobust</td>    <th>                     </th>     <td> </td>   \n",
       "</tr>\n",
       "</table>\n",
       "<table class=\"simpletable\">\n",
       "<tr>\n",
       "                   <td></td>                     <th>coef</th>     <th>std err</th>      <th>t</th>      <th>P>|t|</th>  <th>[0.025</th>    <th>0.975]</th>  \n",
       "</tr>\n",
       "<tr>\n",
       "  <th>Intercept</th>                          <td>    4.4240</td> <td>    0.502</td> <td>    8.816</td> <td> 0.000</td> <td>    3.440</td> <td>    5.408</td>\n",
       "</tr>\n",
       "<tr>\n",
       "  <th>bathrooms_text[T.0 shared baths]</th>   <td>   -0.3100</td> <td>    0.506</td> <td>   -0.612</td> <td> 0.541</td> <td>   -1.303</td> <td>    0.683</td>\n",
       "</tr>\n",
       "<tr>\n",
       "  <th>bathrooms_text[T.1 bath]</th>           <td>    0.3601</td> <td>    0.502</td> <td>    0.718</td> <td> 0.473</td> <td>   -0.623</td> <td>    1.344</td>\n",
       "</tr>\n",
       "<tr>\n",
       "  <th>bathrooms_text[T.1 private bath]</th>   <td>    0.2626</td> <td>    0.503</td> <td>    0.522</td> <td> 0.602</td> <td>   -0.724</td> <td>    1.249</td>\n",
       "</tr>\n",
       "<tr>\n",
       "  <th>bathrooms_text[T.1 shared bath]</th>    <td>   -0.3564</td> <td>    0.502</td> <td>   -0.710</td> <td> 0.478</td> <td>   -1.341</td> <td>    0.628</td>\n",
       "</tr>\n",
       "<tr>\n",
       "  <th>bathrooms_text[T.1.5 baths]</th>        <td>    0.3094</td> <td>    0.504</td> <td>    0.614</td> <td> 0.539</td> <td>   -0.678</td> <td>    1.297</td>\n",
       "</tr>\n",
       "<tr>\n",
       "  <th>bathrooms_text[T.1.5 shared baths]</th> <td>   -0.3364</td> <td>    0.505</td> <td>   -0.666</td> <td> 0.506</td> <td>   -1.327</td> <td>    0.654</td>\n",
       "</tr>\n",
       "<tr>\n",
       "  <th>bathrooms_text[T.2 baths]</th>          <td>    0.7077</td> <td>    0.502</td> <td>    1.409</td> <td> 0.159</td> <td>   -0.277</td> <td>    1.692</td>\n",
       "</tr>\n",
       "<tr>\n",
       "  <th>bathrooms_text[T.2 shared baths]</th>   <td>   -0.3286</td> <td>    0.503</td> <td>   -0.653</td> <td> 0.514</td> <td>   -1.315</td> <td>    0.658</td>\n",
       "</tr>\n",
       "<tr>\n",
       "  <th>bathrooms_text[T.2.5 baths]</th>        <td>    0.9035</td> <td>    0.506</td> <td>    1.787</td> <td> 0.074</td> <td>   -0.088</td> <td>    1.895</td>\n",
       "</tr>\n",
       "<tr>\n",
       "  <th>bathrooms_text[T.2.5 shared baths]</th> <td>   -0.1551</td> <td>    0.524</td> <td>   -0.296</td> <td> 0.767</td> <td>   -1.182</td> <td>    0.872</td>\n",
       "</tr>\n",
       "<tr>\n",
       "  <th>bathrooms_text[T.3 baths]</th>          <td>    0.7063</td> <td>    0.509</td> <td>    1.388</td> <td> 0.165</td> <td>   -0.291</td> <td>    1.704</td>\n",
       "</tr>\n",
       "<tr>\n",
       "  <th>bathrooms_text[T.3 shared baths]</th>   <td>   -0.3808</td> <td>    0.529</td> <td>   -0.720</td> <td> 0.472</td> <td>   -1.418</td> <td>    0.657</td>\n",
       "</tr>\n",
       "<tr>\n",
       "  <th>bathrooms_text[T.3.5 baths]</th>        <td>    1.0864</td> <td>    0.520</td> <td>    2.088</td> <td> 0.037</td> <td>    0.066</td> <td>    2.107</td>\n",
       "</tr>\n",
       "<tr>\n",
       "  <th>bathrooms_text[T.3.5 shared baths]</th> <td>   -0.3354</td> <td>    0.709</td> <td>   -0.473</td> <td> 0.636</td> <td>   -1.726</td> <td>    1.055</td>\n",
       "</tr>\n",
       "<tr>\n",
       "  <th>bathrooms_text[T.4 baths]</th>          <td>    1.1874</td> <td>    0.553</td> <td>    2.149</td> <td> 0.032</td> <td>    0.104</td> <td>    2.271</td>\n",
       "</tr>\n",
       "<tr>\n",
       "  <th>bathrooms_text[T.4 shared baths]</th>   <td>   -0.5045</td> <td>    0.709</td> <td>   -0.711</td> <td> 0.477</td> <td>   -1.895</td> <td>    0.886</td>\n",
       "</tr>\n",
       "<tr>\n",
       "  <th>bathrooms_text[T.4.5 baths]</th>        <td>    0.9071</td> <td>    0.581</td> <td>    1.561</td> <td> 0.119</td> <td>   -0.232</td> <td>    2.047</td>\n",
       "</tr>\n",
       "<tr>\n",
       "  <th>bathrooms_text[T.5 baths]</th>          <td>    1.3223</td> <td>    0.563</td> <td>    2.347</td> <td> 0.019</td> <td>    0.218</td> <td>    2.427</td>\n",
       "</tr>\n",
       "<tr>\n",
       "  <th>bathrooms_text[T.6 baths]</th>          <td>    1.1510</td> <td>    0.584</td> <td>    1.970</td> <td> 0.049</td> <td>    0.005</td> <td>    2.297</td>\n",
       "</tr>\n",
       "<tr>\n",
       "  <th>accommodates</th>                       <td>    0.1028</td> <td>    0.007</td> <td>   15.527</td> <td> 0.000</td> <td>    0.090</td> <td>    0.116</td>\n",
       "</tr>\n",
       "<tr>\n",
       "  <th>bedrooms</th>                           <td>   -0.0150</td> <td>    0.015</td> <td>   -1.010</td> <td> 0.313</td> <td>   -0.044</td> <td>    0.014</td>\n",
       "</tr>\n",
       "</table>\n",
       "<table class=\"simpletable\">\n",
       "<tr>\n",
       "  <th>Omnibus:</th>       <td>642.616</td> <th>  Durbin-Watson:     </th> <td>   1.701</td>\n",
       "</tr>\n",
       "<tr>\n",
       "  <th>Prob(Omnibus):</th> <td> 0.000</td>  <th>  Jarque-Bera (JB):  </th> <td>5086.835</td>\n",
       "</tr>\n",
       "<tr>\n",
       "  <th>Skew:</th>          <td> 0.691</td>  <th>  Prob(JB):          </th> <td>    0.00</td>\n",
       "</tr>\n",
       "<tr>\n",
       "  <th>Kurtosis:</th>      <td> 8.883</td>  <th>  Cond. No.          </th> <td>1.18e+03</td>\n",
       "</tr>\n",
       "</table><br/><br/>Notes:<br/>[1] Standard Errors assume that the covariance matrix of the errors is correctly specified.<br/>[2] The condition number is large, 1.18e+03. This might indicate that there are<br/>strong multicollinearity or other numerical problems."
      ],
      "text/plain": [
       "<class 'statsmodels.iolib.summary.Summary'>\n",
       "\"\"\"\n",
       "                            OLS Regression Results                            \n",
       "==============================================================================\n",
       "Dep. Variable:                l_price   R-squared:                       0.551\n",
       "Model:                            OLS   Adj. R-squared:                  0.548\n",
       "Method:                 Least Squares   F-statistic:                     193.7\n",
       "Date:                Tue, 25 Apr 2023   Prob (F-statistic):               0.00\n",
       "Time:                        04:28:49   Log-Likelihood:                -2424.6\n",
       "No. Observations:                3343   AIC:                             4893.\n",
       "Df Residuals:                    3321   BIC:                             5028.\n",
       "Df Model:                          21                                         \n",
       "Covariance Type:            nonrobust                                         \n",
       "======================================================================================================\n",
       "                                         coef    std err          t      P>|t|      [0.025      0.975]\n",
       "------------------------------------------------------------------------------------------------------\n",
       "Intercept                              4.4240      0.502      8.816      0.000       3.440       5.408\n",
       "bathrooms_text[T.0 shared baths]      -0.3100      0.506     -0.612      0.541      -1.303       0.683\n",
       "bathrooms_text[T.1 bath]               0.3601      0.502      0.718      0.473      -0.623       1.344\n",
       "bathrooms_text[T.1 private bath]       0.2626      0.503      0.522      0.602      -0.724       1.249\n",
       "bathrooms_text[T.1 shared bath]       -0.3564      0.502     -0.710      0.478      -1.341       0.628\n",
       "bathrooms_text[T.1.5 baths]            0.3094      0.504      0.614      0.539      -0.678       1.297\n",
       "bathrooms_text[T.1.5 shared baths]    -0.3364      0.505     -0.666      0.506      -1.327       0.654\n",
       "bathrooms_text[T.2 baths]              0.7077      0.502      1.409      0.159      -0.277       1.692\n",
       "bathrooms_text[T.2 shared baths]      -0.3286      0.503     -0.653      0.514      -1.315       0.658\n",
       "bathrooms_text[T.2.5 baths]            0.9035      0.506      1.787      0.074      -0.088       1.895\n",
       "bathrooms_text[T.2.5 shared baths]    -0.1551      0.524     -0.296      0.767      -1.182       0.872\n",
       "bathrooms_text[T.3 baths]              0.7063      0.509      1.388      0.165      -0.291       1.704\n",
       "bathrooms_text[T.3 shared baths]      -0.3808      0.529     -0.720      0.472      -1.418       0.657\n",
       "bathrooms_text[T.3.5 baths]            1.0864      0.520      2.088      0.037       0.066       2.107\n",
       "bathrooms_text[T.3.5 shared baths]    -0.3354      0.709     -0.473      0.636      -1.726       1.055\n",
       "bathrooms_text[T.4 baths]              1.1874      0.553      2.149      0.032       0.104       2.271\n",
       "bathrooms_text[T.4 shared baths]      -0.5045      0.709     -0.711      0.477      -1.895       0.886\n",
       "bathrooms_text[T.4.5 baths]            0.9071      0.581      1.561      0.119      -0.232       2.047\n",
       "bathrooms_text[T.5 baths]              1.3223      0.563      2.347      0.019       0.218       2.427\n",
       "bathrooms_text[T.6 baths]              1.1510      0.584      1.970      0.049       0.005       2.297\n",
       "accommodates                           0.1028      0.007     15.527      0.000       0.090       0.116\n",
       "bedrooms                              -0.0150      0.015     -1.010      0.313      -0.044       0.014\n",
       "==============================================================================\n",
       "Omnibus:                      642.616   Durbin-Watson:                   1.701\n",
       "Prob(Omnibus):                  0.000   Jarque-Bera (JB):             5086.835\n",
       "Skew:                           0.691   Prob(JB):                         0.00\n",
       "Kurtosis:                       8.883   Cond. No.                     1.18e+03\n",
       "==============================================================================\n",
       "\n",
       "Notes:\n",
       "[1] Standard Errors assume that the covariance matrix of the errors is correctly specified.\n",
       "[2] The condition number is large, 1.18e+03. This might indicate that there are\n",
       "strong multicollinearity or other numerical problems.\n",
       "\"\"\""
      ]
     },
     "execution_count": 11,
     "metadata": {},
     "output_type": "execute_result"
    }
   ],
   "source": [
    "reg.summary()"
   ]
  },
  {
   "cell_type": "markdown",
   "id": "1693aedd-2330-4587-abac-34a4772db089",
   "metadata": {},
   "source": [
    "## This [link](https://stats.stackexchange.com/questions/26176/removal-of-statistically-significant-intercept-term-increases-r2-in-linear-mo) helps with the difference between intercept and no-intercept regressions\n"
   ]
  },
  {
   "cell_type": "code",
   "execution_count": 12,
   "id": "fcbe9c82-7d8b-4c5d-aae2-496ce08144de",
   "metadata": {},
   "outputs": [
    {
     "data": {
      "text/html": [
       "<table class=\"simpletable\">\n",
       "<caption>OLS Regression Results</caption>\n",
       "<tr>\n",
       "  <th>Dep. Variable:</th>         <td>l_price</td>     <th>  R-squared (uncentered):</th>      <td>   0.875</td> \n",
       "</tr>\n",
       "<tr>\n",
       "  <th>Model:</th>                   <td>OLS</td>       <th>  Adj. R-squared (uncentered):</th> <td>   0.874</td> \n",
       "</tr>\n",
       "<tr>\n",
       "  <th>Method:</th>             <td>Least Squares</td>  <th>  F-statistic:       </th>          <td>   7763.</td> \n",
       "</tr>\n",
       "<tr>\n",
       "  <th>Date:</th>             <td>Tue, 25 Apr 2023</td> <th>  Prob (F-statistic):</th>           <td>  0.00</td>  \n",
       "</tr>\n",
       "<tr>\n",
       "  <th>Time:</th>                 <td>04:28:49</td>     <th>  Log-Likelihood:    </th>          <td> -6668.8</td> \n",
       "</tr>\n",
       "<tr>\n",
       "  <th>No. Observations:</th>      <td>  3343</td>      <th>  AIC:               </th>          <td>1.334e+04</td>\n",
       "</tr>\n",
       "<tr>\n",
       "  <th>Df Residuals:</th>          <td>  3340</td>      <th>  BIC:               </th>          <td>1.336e+04</td>\n",
       "</tr>\n",
       "<tr>\n",
       "  <th>Df Model:</th>              <td>     3</td>      <th>                     </th>              <td> </td>    \n",
       "</tr>\n",
       "<tr>\n",
       "  <th>Covariance Type:</th>      <td>nonrobust</td>    <th>                     </th>              <td> </td>    \n",
       "</tr>\n",
       "</table>\n",
       "<table class=\"simpletable\">\n",
       "<tr>\n",
       "        <td></td>          <th>coef</th>     <th>std err</th>      <th>t</th>      <th>P>|t|</th>  <th>[0.025</th>    <th>0.975]</th>  \n",
       "</tr>\n",
       "<tr>\n",
       "  <th>accommodates</th> <td>    0.1412</td> <td>    0.018</td> <td>    7.703</td> <td> 0.000</td> <td>    0.105</td> <td>    0.177</td>\n",
       "</tr>\n",
       "<tr>\n",
       "  <th>bath_num</th>     <td>    2.1012</td> <td>    0.043</td> <td>   48.504</td> <td> 0.000</td> <td>    2.016</td> <td>    2.186</td>\n",
       "</tr>\n",
       "<tr>\n",
       "  <th>bedrooms</th>     <td>    0.6918</td> <td>    0.027</td> <td>   25.317</td> <td> 0.000</td> <td>    0.638</td> <td>    0.745</td>\n",
       "</tr>\n",
       "</table>\n",
       "<table class=\"simpletable\">\n",
       "<tr>\n",
       "  <th>Omnibus:</th>       <td>1625.765</td> <th>  Durbin-Watson:     </th> <td>   1.472</td> \n",
       "</tr>\n",
       "<tr>\n",
       "  <th>Prob(Omnibus):</th>  <td> 0.000</td>  <th>  Jarque-Bera (JB):  </th> <td>14606.628</td>\n",
       "</tr>\n",
       "<tr>\n",
       "  <th>Skew:</th>           <td>-2.115</td>  <th>  Prob(JB):          </th> <td>    0.00</td> \n",
       "</tr>\n",
       "<tr>\n",
       "  <th>Kurtosis:</th>       <td>12.326</td>  <th>  Cond. No.          </th> <td>    6.75</td> \n",
       "</tr>\n",
       "</table><br/><br/>Notes:<br/>[1] R² is computed without centering (uncentered) since the model does not contain a constant.<br/>[2] Standard Errors assume that the covariance matrix of the errors is correctly specified."
      ],
      "text/plain": [
       "<class 'statsmodels.iolib.summary.Summary'>\n",
       "\"\"\"\n",
       "                                 OLS Regression Results                                \n",
       "=======================================================================================\n",
       "Dep. Variable:                l_price   R-squared (uncentered):                   0.875\n",
       "Model:                            OLS   Adj. R-squared (uncentered):              0.874\n",
       "Method:                 Least Squares   F-statistic:                              7763.\n",
       "Date:                Tue, 25 Apr 2023   Prob (F-statistic):                        0.00\n",
       "Time:                        04:28:49   Log-Likelihood:                         -6668.8\n",
       "No. Observations:                3343   AIC:                                  1.334e+04\n",
       "Df Residuals:                    3340   BIC:                                  1.336e+04\n",
       "Df Model:                           3                                                  \n",
       "Covariance Type:            nonrobust                                                  \n",
       "================================================================================\n",
       "                   coef    std err          t      P>|t|      [0.025      0.975]\n",
       "--------------------------------------------------------------------------------\n",
       "accommodates     0.1412      0.018      7.703      0.000       0.105       0.177\n",
       "bath_num         2.1012      0.043     48.504      0.000       2.016       2.186\n",
       "bedrooms         0.6918      0.027     25.317      0.000       0.638       0.745\n",
       "==============================================================================\n",
       "Omnibus:                     1625.765   Durbin-Watson:                   1.472\n",
       "Prob(Omnibus):                  0.000   Jarque-Bera (JB):            14606.628\n",
       "Skew:                          -2.115   Prob(JB):                         0.00\n",
       "Kurtosis:                      12.326   Cond. No.                         6.75\n",
       "==============================================================================\n",
       "\n",
       "Notes:\n",
       "[1] R² is computed without centering (uncentered) since the model does not contain a constant.\n",
       "[2] Standard Errors assume that the covariance matrix of the errors is correctly specified.\n",
       "\"\"\""
      ]
     },
     "execution_count": 12,
     "metadata": {},
     "output_type": "execute_result"
    }
   ],
   "source": [
    "# doing an OLS a slightly different way\n",
    "# no intercept... but much higher r-squared (when using l_price... weird)\n",
    "# better for this report, but not sure I can use it in predicitons\n",
    "\n",
    "explanatory_variables = ['accommodates', 'bath_num', 'bedrooms']\n",
    "\n",
    "reg = sm.OLS(listings_4reg['l_price'], listings_4reg[explanatory_variables])\n",
    "basic_ols_res = reg.fit()\n",
    "basic_ols_res.summary()"
   ]
  },
  {
   "cell_type": "code",
   "execution_count": 13,
   "id": "b3c0bdf5-f4ad-4f70-be89-8a425928a47e",
   "metadata": {},
   "outputs": [
    {
     "name": "stdout",
     "output_type": "stream",
     "text": [
      "Skewness: 0.322002\n",
      "Kurtosis: 0.365186\n"
     ]
    },
    {
     "data": {
      "image/png": "[encoded data removed]",
      "text/plain": [
       "<Figure size 500x500 with 1 Axes>"
      ]
     },
     "metadata": {},
     "output_type": "display_data"
    },
    {
     "data": {
      "image/png": "[encoded data removed]",
      "text/plain": [
       "<Figure size 640x480 with 1 Axes>"
      ]
     },
     "metadata": {},
     "output_type": "display_data"
    }
   ],
   "source": [
    "# examining price problems... grrr\n",
    "sns.displot(listings_4reg['l_price'], kde=True,);\n",
    "fig = plt.figure()\n",
    "res = stats.probplot(listings_4reg['l_price'], plot=plt)\n",
    "print(\"Skewness: %f\" % listings_4reg['l_price'].skew())\n",
    "print(\"Kurtosis: %f\" % listings_4reg['l_price'].kurt())"
   ]
  },
  {
   "cell_type": "markdown",
   "id": "7cbfb016-43ae-4e7a-a176-d253f0391f94",
   "metadata": {},
   "source": [
    "## Now I add in spatial weights and compare"
   ]
  },
  {
   "cell_type": "code",
   "execution_count": 14,
   "id": "0a03f8fb-0a2e-49a4-8f43-7d1ab6baadfd",
   "metadata": {},
   "outputs": [
    {
     "name": "stderr",
     "output_type": "stream",
     "text": [
      "C:\\Users\\dbawa\\anaconda3\\lib\\site-packages\\libpysal\\weights\\weights.py:172: UserWarning: The weights matrix is not fully connected: \n",
      " There are 33 disconnected components.\n",
      "  warnings.warn(message)\n"
     ]
    },
    {
     "data": {
      "text/plain": [
       "<libpysal.weights.distance.KNN at 0x1343c0d96a0>"
      ]
     },
     "execution_count": 14,
     "metadata": {},
     "output_type": "execute_result"
    }
   ],
   "source": [
    "# create spatial weights based on the 4 nearest neighbors\n",
    "# idk what that error is about\n",
    "#      - wouldn't there always be a nearest neighbor?\n",
    "coordinates = np.column_stack((listings_4reg['longitude'], listings_4reg['latitude']))\n",
    "kd = KDTree(np.array(coordinates))\n",
    "w = KNN.from_array(kd, k=4)\n",
    "w"
   ]
  },
  {
   "cell_type": "markdown",
   "id": "04d90794-3a4c-43dd-9706-f732f1ab0a43",
   "metadata": {},
   "source": [
    "#### Spatial two stage least squares (S2SLS) with results and diagnostics\n",
    "[link](https://spreg.readthedocs.io/en/latest/generated/spreg.GM_Lag.html) to docs\n",
    "- This part, without the part above, could suffice potentially\n",
    "    - The picture is fairly clear when I use \"price\" instead of \"l_price\"\n",
    "        - But I should figure out why"
   ]
  },
  {
   "cell_type": "code",
   "execution_count": 15,
   "id": "2ecacef7-fbde-482b-a598-e27ee637acce",
   "metadata": {},
   "outputs": [],
   "source": [
    "reg_wGEO = spreg.GM_Lag(listings_4reg['l_price'].values[:, None],\n",
    "                        listings_4reg[explanatory_variables].values,\n",
    "                        w=w,\n",
    "                        name_x=explanatory_variables,\n",
    "                        name_y='l_price')"
   ]
  },
  {
   "cell_type": "code",
   "execution_count": 16,
   "id": "900b88b9-f8f6-401b-aaa7-a666d99ecad0",
   "metadata": {},
   "outputs": [
    {
     "name": "stdout",
     "output_type": "stream",
     "text": [
      "REGRESSION\n",
      "----------\n",
      "SUMMARY OF OUTPUT: SPATIAL TWO STAGE LEAST SQUARES\n",
      "--------------------------------------------------\n",
      "Data set            :     unknown\n",
      "Weights matrix      :     unknown\n",
      "Dependent Variable  :     l_price                Number of Observations:        3343\n",
      "Mean dependent var  :      4.9669                Number of Variables   :           5\n",
      "S.D. dependent var  :      0.7455                Degrees of Freedom    :        3338\n",
      "Pseudo R-squared    :      0.5123\n",
      "Spatial Pseudo R-squared:  0.3986\n",
      "\n",
      "------------------------------------------------------------------------------------\n",
      "            Variable     Coefficient       Std.Error     z-Statistic     Probability\n",
      "------------------------------------------------------------------------------------\n",
      "            CONSTANT       3.1591105       0.1473044      21.4461402       0.0000000\n",
      "        accommodates       0.1819085       0.0058870      30.9001830       0.0000000\n",
      "            bath_num       0.1154886       0.0166131       6.9516750       0.0000000\n",
      "            bedrooms      -0.0352512       0.0096207      -3.6640970       0.0002482\n",
      "           W_l_price       0.0565060       0.0074698       7.5645597       0.0000000\n",
      "------------------------------------------------------------------------------------\n",
      "Instrumented: W_l_price\n",
      "Instruments: W_accommodates, W_bath_num, W_bedrooms\n",
      "================================ END OF REPORT =====================================\n"
     ]
    }
   ],
   "source": [
    "print(reg_wGEO.summary)"
   ]
  },
  {
   "cell_type": "code",
   "execution_count": 17,
   "id": "1fc8fda0-deb6-430e-bd39-33ee55bb09f8",
   "metadata": {},
   "outputs": [
    {
     "name": "stdout",
     "output_type": "stream",
     "text": [
      "OLS   : 25.225415020191463\n",
      "OLS+W : 0.27346863539406036\n"
     ]
    }
   ],
   "source": [
    "# copied from someone else's repo\n",
    "# I think this finds MSE manually using .predy, and also using .mse_total\n",
    "geospatial_ols_mse = ((listings_4reg['l_price'] - reg_wGEO.predy.flatten()) ** 2).mean()\n",
    "print(\"OLS\".ljust(5), \":\", basic_ols_res.mse_total)\n",
    "print(\"OLS+W\".ljust(5), \":\", geospatial_ols_mse)"
   ]
  },
  {
   "cell_type": "markdown",
   "id": "2dced0dc-f9e5-460c-9eba-9e04c28a0628",
   "metadata": {
    "tags": []
   },
   "source": [
    "### That was fun, IDT everything is correct yet"
   ]
  },
  {
   "cell_type": "markdown",
   "id": "90ad68d8-8c37-432f-9c1d-9fba389199a1",
   "metadata": {},
   "source": [
    "## The Takeaways below were before I switched to using \"price\" instead of \"l_price\"\n",
    "- The difference between the two is weirdly large and needs investigation\n",
    "    - Cleaning fees are a place to start, but not likely the only culprit"
   ]
  },
  {
   "cell_type": "markdown",
   "id": "f7084bbc-b286-46e8-8571-f7af70969968",
   "metadata": {
    "tags": []
   },
   "source": [
    "### Main Takeaways from this section\n",
    "- I'm still iffy on the part with KNN, cus idrk what the \"k=\" parameter is doing\n",
    "- W_actual price is the coefficient that corresponds to the spatial weight of listing prices\n",
    "    - It is relatively low, but not 0\n",
    "    - Is it high enough to interpret that there is neighbor-based price setting?\n",
    "        - If it is, then it only has a small effect\n",
    "    - Is it low enough to interpret that there is no neighbor-based price setting?\n",
    "        - If it is, then \"bedrooms\" is also statistical noise\n",
    "        - \"bedrooms\" is only statistical noise when spatial weight is included\n",
    "    - The problem is that my other coefficients are also low, so interpreting W_actual_price is tough.\n",
    "- The MSE gives a clearer picture, I just have to ensure those numbers are correct\n",
    "    - Currently the interpretation is that adding spatial weight decreases the mean squ. error (increases accuracy)\n",
    "    - This implies that hosts **DO** in fact take neighbor's lists prices into consideration\n",
    "        - But there are lots of other factors I can think of that affect this correlation\n",
    "- I think I need professor help to make sure I am doing/interpreting this right"
   ]
  },
  {
   "cell_type": "code",
   "execution_count": null,
   "id": "51661d28-2033-4d65-b2ca-e8b344bbb91b",
   "metadata": {},
   "outputs": [],
   "source": []
  }
 ],
 "metadata": {
  "kernelspec": {
   "display_name": "Python 3 (ipykernel)",
   "language": "python",
   "name": "python3"
  },
  "language_info": {
   "codemirror_mode": {
    "name": "ipython",
    "version": 3
   },
   "file_extension": ".py",
   "mimetype": "text/x-python",
   "name": "python",
   "nbconvert_exporter": "python",
   "pygments_lexer": "ipython3",
   "version": "3.9.16"
  }
 },
 "nbformat": 4,
 "nbformat_minor": 5
}
