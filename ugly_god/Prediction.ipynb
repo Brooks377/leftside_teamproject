{
 "cells": [
  {
   "cell_type": "markdown",
   "id": "87fb4841-c472-48d7-8800-9381bcff9045",
   "metadata": {},
   "source": [
    "# Price Predicition Model\n",
    "\n",
    "This file creates a model using machine learning to predict listing prices in each neighborhood and tract.\n",
    "\n",
    "[some inspiration](https://towardsdatascience.com/airbnb-price-prediction-using-linear-regression-scikit-learn-and-statsmodels-6e1fc2bd51a6)"
   ]
  },
  {
   "cell_type": "code",
   "execution_count": 1,
   "id": "20e71358-dc67-4702-b889-37ad290d41c4",
   "metadata": {},
   "outputs": [],
   "source": [
    "# imports\n",
    "\n"
   ]
  },
  {
   "cell_type": "code",
   "execution_count": 3,
   "id": "2954fe75-58f3-4c8f-9a6f-4a8c78931394",
   "metadata": {},
   "outputs": [],
   "source": [
    "# load datasets\n",
    "\n"
   ]
  },
  {
   "cell_type": "code",
   "execution_count": 4,
   "id": "0a7e9535-18e3-45c8-97c1-025620d8ec81",
   "metadata": {},
   "outputs": [],
   "source": [
    "# you know the rest..."
   ]
  },
  {
   "cell_type": "code",
   "execution_count": null,
   "id": "9cf26a78-82b6-4686-8481-e92ae55521ed",
   "metadata": {},
   "outputs": [],
   "source": []
  },
  {
   "cell_type": "code",
   "execution_count": null,
   "id": "03b7f93d-95c1-4683-9baf-b1c90243f26b",
   "metadata": {},
   "outputs": [],
   "source": []
  },
  {
   "cell_type": "code",
   "execution_count": null,
   "id": "1bad15e3-1f93-472b-8182-81b077573a33",
   "metadata": {},
   "outputs": [],
   "source": []
  }
 ],
 "metadata": {
  "kernelspec": {
   "display_name": "Python 3 (ipykernel)",
   "language": "python",
   "name": "python3"
  },
  "language_info": {
   "codemirror_mode": {
    "name": "ipython",
    "version": 3
   },
   "file_extension": ".py",
   "mimetype": "text/x-python",
   "name": "python",
   "nbconvert_exporter": "python",
   "pygments_lexer": "ipython3",
   "version": "3.9.16"
  }
 },
 "nbformat": 4,
 "nbformat_minor": 5
}
