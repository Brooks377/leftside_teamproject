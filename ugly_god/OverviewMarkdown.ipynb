{
 "cells": [
  {
   "cell_type": "code",
   "execution_count": null,
   "id": "d8d5f05a-56e8-4863-8101-62fa1265d15d",
   "metadata": {},
   "outputs": [],
   "source": [
    "-general purpose\n",
    "-table of contents- explanation\n",
    "-about us\n",
    "inspiraton\n",
    "-citing\n",
    "-end goal perspective airbnb host go in nad"
   ]
  },
  {
   "cell_type": "markdown",
   "id": "dbcb45cc-18ae-41a9-9aab-9708cdae4050",
   "metadata": {},
   "source": [
    "## General Purpose\n",
    "\n",
    "The main purpose of this project is to see which attributes contribute to the price of AirBnB prices in Boston. \n",
    "The goal is to find a predicted AirBnB price based on neighborhood, census tract, and amenities. \n",
    "The end goal is for a perspective AirBnB host to use this dashboard to generate an estimate of the price \n",
    "of their AirBnB based on these factors. "
   ]
  },
  {
   "cell_type": "markdown",
   "id": "c2874cb1-be7b-4742-ad59-16d79cbfeafe",
   "metadata": {},
   "source": [
    "### Table of Contents"
   ]
  },
  {
   "cell_type": "markdown",
   "id": "7c53e60c-dda0-4dc3-8b60-ff9788123736",
   "metadata": {},
   "source": [
    "1. **Overview**\n",
    "    - EDA:  \n"
   ]
  },
  {
   "cell_type": "markdown",
   "id": "d6978cf1-9db7-4a8c-9961-fce056583eb0",
   "metadata": {},
   "source": [
    "\n",
    "\n",
    "1. **Listing Data**\n",
    "    -  This section allows for users to find the average price of a listing in Boston. \n",
    "    -  There is a dropdown menu which allows users to choose desired month, zone type, and neighborhood or census tract\n",
    "    -  From there, the shapefile of the neighborhood/census tract is highlighted, and the total listings, highest price, average price, and lowest price are outputted\n",
    "    -  Additionally, there are graphs that output room type distribution, availability of listings, and long versus short term listings.\n",
    "    -  Additionally, we outputted two world clouds that illustrates the key ammentiies in high price and low price ammenities\n"
   ]
  },
  {
   "cell_type": "code",
   "execution_count": null,
   "id": "9f7bb777-b24a-4f8e-b19b-20d96cfa8696",
   "metadata": {},
   "outputs": [],
   "source": [
    "2. "
   ]
  }
 ],
 "metadata": {
  "kernelspec": {
   "display_name": "Python 3 (ipykernel)",
   "language": "python",
   "name": "python3"
  },
  "language_info": {
   "codemirror_mode": {
    "name": "ipython",
    "version": 3
   },
   "file_extension": ".py",
   "mimetype": "text/x-python",
   "name": "python",
   "nbconvert_exporter": "python",
   "pygments_lexer": "ipython3",
   "version": "3.9.13"
  }
 },
 "nbformat": 4,
 "nbformat_minor": 5
}
