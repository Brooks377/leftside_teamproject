{
 "cells": [
  {
   "cell_type": "markdown",
   "id": "291d61a6-3c17-49ee-8d2f-e0bec34df6ec",
   "metadata": {},
   "source": [
    "# Graphics\n",
    "\n",
    "This file creates graphic outputs of descriptive statistics for each neighborhood and tract."
   ]
  },
  {
   "cell_type": "code",
   "execution_count": 1,
   "id": "b8acb957-35f6-47d7-93fb-494bb655fa29",
   "metadata": {},
   "outputs": [],
   "source": [
    "import pandas as pd\n",
    "import numpy as np\n",
    "import matplotlib.pyplot as plt\n",
    "import seaborn as sns"
   ]
  },
  {
   "cell_type": "code",
   "execution_count": 2,
   "id": "3a0e12b3-92fe-44b0-9e27-6050ff15b82e",
   "metadata": {},
   "outputs": [
    {
     "data": {
      "text/html": [
       "<div>\n",
       "<style scoped>\n",
       "    .dataframe tbody tr th:only-of-type {\n",
       "        vertical-align: middle;\n",
       "    }\n",
       "\n",
       "    .dataframe tbody tr th {\n",
       "        vertical-align: top;\n",
       "    }\n",
       "\n",
       "    .dataframe thead th {\n",
       "        text-align: right;\n",
       "    }\n",
       "</style>\n",
       "<table border=\"1\" class=\"dataframe\">\n",
       "  <thead>\n",
       "    <tr style=\"text-align: right;\">\n",
       "      <th></th>\n",
       "      <th>id</th>\n",
       "      <th>date</th>\n",
       "      <th>available</th>\n",
       "      <th>price</th>\n",
       "      <th>room_type</th>\n",
       "      <th>minimum_nights</th>\n",
       "      <th>census_tract</th>\n",
       "      <th>census_NBH</th>\n",
       "    </tr>\n",
       "  </thead>\n",
       "  <tbody>\n",
       "    <tr>\n",
       "      <th>0</th>\n",
       "      <td>3781</td>\n",
       "      <td>2023-03-19</td>\n",
       "      <td>f</td>\n",
       "      <td>125.0</td>\n",
       "      <td>Entire home/apt</td>\n",
       "      <td>32</td>\n",
       "      <td>512.0</td>\n",
       "      <td>East Boston</td>\n",
       "    </tr>\n",
       "    <tr>\n",
       "      <th>1</th>\n",
       "      <td>3781</td>\n",
       "      <td>2023-03-20</td>\n",
       "      <td>f</td>\n",
       "      <td>125.0</td>\n",
       "      <td>Entire home/apt</td>\n",
       "      <td>32</td>\n",
       "      <td>512.0</td>\n",
       "      <td>East Boston</td>\n",
       "    </tr>\n",
       "    <tr>\n",
       "      <th>2</th>\n",
       "      <td>3781</td>\n",
       "      <td>2023-03-21</td>\n",
       "      <td>f</td>\n",
       "      <td>125.0</td>\n",
       "      <td>Entire home/apt</td>\n",
       "      <td>32</td>\n",
       "      <td>512.0</td>\n",
       "      <td>East Boston</td>\n",
       "    </tr>\n",
       "    <tr>\n",
       "      <th>3</th>\n",
       "      <td>3781</td>\n",
       "      <td>2023-03-22</td>\n",
       "      <td>f</td>\n",
       "      <td>125.0</td>\n",
       "      <td>Entire home/apt</td>\n",
       "      <td>32</td>\n",
       "      <td>512.0</td>\n",
       "      <td>East Boston</td>\n",
       "    </tr>\n",
       "    <tr>\n",
       "      <th>4</th>\n",
       "      <td>3781</td>\n",
       "      <td>2023-03-23</td>\n",
       "      <td>f</td>\n",
       "      <td>125.0</td>\n",
       "      <td>Entire home/apt</td>\n",
       "      <td>32</td>\n",
       "      <td>512.0</td>\n",
       "      <td>East Boston</td>\n",
       "    </tr>\n",
       "    <tr>\n",
       "      <th>...</th>\n",
       "      <td>...</td>\n",
       "      <td>...</td>\n",
       "      <td>...</td>\n",
       "      <td>...</td>\n",
       "      <td>...</td>\n",
       "      <td>...</td>\n",
       "      <td>...</td>\n",
       "      <td>...</td>\n",
       "    </tr>\n",
       "    <tr>\n",
       "      <th>1410018</th>\n",
       "      <td>2021483</td>\n",
       "      <td>2024-03-13</td>\n",
       "      <td>f</td>\n",
       "      <td>500.0</td>\n",
       "      <td>Entire home/apt</td>\n",
       "      <td>1</td>\n",
       "      <td>608.0</td>\n",
       "      <td>South Boston</td>\n",
       "    </tr>\n",
       "    <tr>\n",
       "      <th>1410019</th>\n",
       "      <td>2021483</td>\n",
       "      <td>2024-03-14</td>\n",
       "      <td>f</td>\n",
       "      <td>500.0</td>\n",
       "      <td>Entire home/apt</td>\n",
       "      <td>1</td>\n",
       "      <td>608.0</td>\n",
       "      <td>South Boston</td>\n",
       "    </tr>\n",
       "    <tr>\n",
       "      <th>1410020</th>\n",
       "      <td>2021483</td>\n",
       "      <td>2024-03-15</td>\n",
       "      <td>f</td>\n",
       "      <td>500.0</td>\n",
       "      <td>Entire home/apt</td>\n",
       "      <td>1</td>\n",
       "      <td>608.0</td>\n",
       "      <td>South Boston</td>\n",
       "    </tr>\n",
       "    <tr>\n",
       "      <th>1410021</th>\n",
       "      <td>2021483</td>\n",
       "      <td>2024-03-16</td>\n",
       "      <td>f</td>\n",
       "      <td>500.0</td>\n",
       "      <td>Entire home/apt</td>\n",
       "      <td>1</td>\n",
       "      <td>608.0</td>\n",
       "      <td>South Boston</td>\n",
       "    </tr>\n",
       "    <tr>\n",
       "      <th>1410022</th>\n",
       "      <td>2021483</td>\n",
       "      <td>2024-03-17</td>\n",
       "      <td>f</td>\n",
       "      <td>500.0</td>\n",
       "      <td>Entire home/apt</td>\n",
       "      <td>1</td>\n",
       "      <td>608.0</td>\n",
       "      <td>South Boston</td>\n",
       "    </tr>\n",
       "  </tbody>\n",
       "</table>\n",
       "<p>1410023 rows × 8 columns</p>\n",
       "</div>"
      ],
      "text/plain": [
       "              id        date available  price        room_type  \\\n",
       "0           3781  2023-03-19         f  125.0  Entire home/apt   \n",
       "1           3781  2023-03-20         f  125.0  Entire home/apt   \n",
       "2           3781  2023-03-21         f  125.0  Entire home/apt   \n",
       "3           3781  2023-03-22         f  125.0  Entire home/apt   \n",
       "4           3781  2023-03-23         f  125.0  Entire home/apt   \n",
       "...          ...         ...       ...    ...              ...   \n",
       "1410018  2021483  2024-03-13         f  500.0  Entire home/apt   \n",
       "1410019  2021483  2024-03-14         f  500.0  Entire home/apt   \n",
       "1410020  2021483  2024-03-15         f  500.0  Entire home/apt   \n",
       "1410021  2021483  2024-03-16         f  500.0  Entire home/apt   \n",
       "1410022  2021483  2024-03-17         f  500.0  Entire home/apt   \n",
       "\n",
       "         minimum_nights  census_tract    census_NBH  \n",
       "0                    32         512.0   East Boston  \n",
       "1                    32         512.0   East Boston  \n",
       "2                    32         512.0   East Boston  \n",
       "3                    32         512.0   East Boston  \n",
       "4                    32         512.0   East Boston  \n",
       "...                 ...           ...           ...  \n",
       "1410018               1         608.0  South Boston  \n",
       "1410019               1         608.0  South Boston  \n",
       "1410020               1         608.0  South Boston  \n",
       "1410021               1         608.0  South Boston  \n",
       "1410022               1         608.0  South Boston  \n",
       "\n",
       "[1410023 rows x 8 columns]"
      ]
     },
     "execution_count": 2,
     "metadata": {},
     "output_type": "execute_result"
    }
   ],
   "source": [
    "master = pd.read_csv('../inputs/master.csv')\n",
    "master"
   ]
  },
  {
   "cell_type": "code",
   "execution_count": 3,
   "id": "eeb027c7-e8b7-4828-b35b-a8693931277f",
   "metadata": {},
   "outputs": [
    {
     "data": {
      "text/html": [
       "<div>\n",
       "<style scoped>\n",
       "    .dataframe tbody tr th:only-of-type {\n",
       "        vertical-align: middle;\n",
       "    }\n",
       "\n",
       "    .dataframe tbody tr th {\n",
       "        vertical-align: top;\n",
       "    }\n",
       "\n",
       "    .dataframe thead th {\n",
       "        text-align: right;\n",
       "    }\n",
       "</style>\n",
       "<table border=\"1\" class=\"dataframe\">\n",
       "  <thead>\n",
       "    <tr style=\"text-align: right;\">\n",
       "      <th></th>\n",
       "      <th>id</th>\n",
       "      <th>room_type</th>\n",
       "      <th>minimum_nights</th>\n",
       "      <th>census_tract</th>\n",
       "      <th>census_NBH</th>\n",
       "    </tr>\n",
       "  </thead>\n",
       "  <tbody>\n",
       "    <tr>\n",
       "      <th>0</th>\n",
       "      <td>3781</td>\n",
       "      <td>Entire home/apt</td>\n",
       "      <td>32</td>\n",
       "      <td>512.00</td>\n",
       "      <td>East Boston</td>\n",
       "    </tr>\n",
       "    <tr>\n",
       "      <th>1</th>\n",
       "      <td>5506</td>\n",
       "      <td>Entire home/apt</td>\n",
       "      <td>3</td>\n",
       "      <td>814.00</td>\n",
       "      <td>Roxbury</td>\n",
       "    </tr>\n",
       "    <tr>\n",
       "      <th>2</th>\n",
       "      <td>6695</td>\n",
       "      <td>Entire home/apt</td>\n",
       "      <td>3</td>\n",
       "      <td>814.00</td>\n",
       "      <td>Roxbury</td>\n",
       "    </tr>\n",
       "    <tr>\n",
       "      <th>3</th>\n",
       "      <td>8789</td>\n",
       "      <td>Entire home/apt</td>\n",
       "      <td>91</td>\n",
       "      <td>203.02</td>\n",
       "      <td>Beacon Hill</td>\n",
       "    </tr>\n",
       "    <tr>\n",
       "      <th>4</th>\n",
       "      <td>4765070</td>\n",
       "      <td>Entire home/apt</td>\n",
       "      <td>3</td>\n",
       "      <td>812.00</td>\n",
       "      <td>Jamaica Plain</td>\n",
       "    </tr>\n",
       "    <tr>\n",
       "      <th>...</th>\n",
       "      <td>...</td>\n",
       "      <td>...</td>\n",
       "      <td>...</td>\n",
       "      <td>...</td>\n",
       "      <td>...</td>\n",
       "    </tr>\n",
       "    <tr>\n",
       "      <th>3859</th>\n",
       "      <td>1956275</td>\n",
       "      <td>Entire home/apt</td>\n",
       "      <td>91</td>\n",
       "      <td>1201.05</td>\n",
       "      <td>Jamaica Plain</td>\n",
       "    </tr>\n",
       "    <tr>\n",
       "      <th>3860</th>\n",
       "      <td>2000797</td>\n",
       "      <td>Private room</td>\n",
       "      <td>2</td>\n",
       "      <td>912.00</td>\n",
       "      <td>Dorchester</td>\n",
       "    </tr>\n",
       "    <tr>\n",
       "      <th>3861</th>\n",
       "      <td>2014651</td>\n",
       "      <td>Private room</td>\n",
       "      <td>91</td>\n",
       "      <td>1202.01</td>\n",
       "      <td>Jamaica Plain</td>\n",
       "    </tr>\n",
       "    <tr>\n",
       "      <th>3862</th>\n",
       "      <td>2014882</td>\n",
       "      <td>Private room</td>\n",
       "      <td>3</td>\n",
       "      <td>4.02</td>\n",
       "      <td>Brighton</td>\n",
       "    </tr>\n",
       "    <tr>\n",
       "      <th>3863</th>\n",
       "      <td>2021483</td>\n",
       "      <td>Entire home/apt</td>\n",
       "      <td>1</td>\n",
       "      <td>608.00</td>\n",
       "      <td>South Boston</td>\n",
       "    </tr>\n",
       "  </tbody>\n",
       "</table>\n",
       "<p>3864 rows × 5 columns</p>\n",
       "</div>"
      ],
      "text/plain": [
       "           id        room_type  minimum_nights  census_tract     census_NBH\n",
       "0        3781  Entire home/apt              32        512.00    East Boston\n",
       "1        5506  Entire home/apt               3        814.00        Roxbury\n",
       "2        6695  Entire home/apt               3        814.00        Roxbury\n",
       "3        8789  Entire home/apt              91        203.02    Beacon Hill\n",
       "4     4765070  Entire home/apt               3        812.00  Jamaica Plain\n",
       "...       ...              ...             ...           ...            ...\n",
       "3859  1956275  Entire home/apt              91       1201.05  Jamaica Plain\n",
       "3860  2000797     Private room               2        912.00     Dorchester\n",
       "3861  2014651     Private room              91       1202.01  Jamaica Plain\n",
       "3862  2014882     Private room               3          4.02       Brighton\n",
       "3863  2021483  Entire home/apt               1        608.00   South Boston\n",
       "\n",
       "[3864 rows x 5 columns]"
      ]
     },
     "execution_count": 3,
     "metadata": {},
     "output_type": "execute_result"
    }
   ],
   "source": [
    "master_short = pd.read_csv('../inputs/master_short.csv')\n",
    "master_short"
   ]
  },
  {
   "cell_type": "markdown",
   "id": "5e559078-a030-4fdb-ab2c-e17e655a8016",
   "metadata": {},
   "source": [
    "## Vacancy"
   ]
  },
  {
   "cell_type": "code",
   "execution_count": 4,
   "id": "639313ca-26fb-43e8-b6a0-f8f7febc2bc7",
   "metadata": {},
   "outputs": [
    {
     "data": {
      "text/plain": [
       "0.45"
      ]
     },
     "execution_count": 4,
     "metadata": {},
     "output_type": "execute_result"
    }
   ],
   "source": [
    "# select neighborhood\n",
    "\n",
    "master_filt = master.loc[master['census_NBH'] == 'East Boston'].reset_index()\n",
    "\n",
    "master_filt['vacant'] = np.where(master_filt['available'] == 't', 'vacant', 'booked')\n",
    "\n",
    "sum = master_filt['vacant'].value_counts().sum()\n",
    "vac = master_filt['vacant'].value_counts()['vacant']\n",
    "\n",
    "vac_rate = (vac / sum).round(2)\n",
    "vac_rate"
   ]
  },
  {
   "cell_type": "code",
   "execution_count": 5,
   "id": "d60a9906-d224-478b-a104-421a4e8d0c3a",
   "metadata": {},
   "outputs": [
    {
     "data": {
      "image/png": "[encoded data removed]",
      "text/plain": [
       "<Figure size 640x480 with 1 Axes>"
      ]
     },
     "metadata": {},
     "output_type": "display_data"
    }
   ],
   "source": [
    "ax = sns.countplot(data = master_filt,\n",
    "              y = 'available',\n",
    "              hue = 'vacant',\n",
    "              palette = 'Oranges')\n",
    "\n",
    "sns.move_legend(ax, \"center right\")"
   ]
  },
  {
   "cell_type": "code",
   "execution_count": 6,
   "id": "de148e11-f962-4fce-8339-845b61d7ad06",
   "metadata": {},
   "outputs": [
    {
     "data": {
      "text/plain": [
       "0.62"
      ]
     },
     "execution_count": 6,
     "metadata": {},
     "output_type": "execute_result"
    }
   ],
   "source": [
    "# select tract\n",
    "\n",
    "master_filt = master.loc[master['census_tract'] == 512].reset_index()\n",
    "\n",
    "master_filt['vacant'] = np.where(master_filt['available'] == 't', 1, 0)      # 1 = vacant\n",
    "                                                                             # 0 = booked\n",
    "\n",
    "sum = master_filt['vacant'].value_counts().sum()\n",
    "vac = master_filt['vacant'].value_counts()[1]\n",
    "\n",
    "vac_rate = (vac / sum).round(2)\n",
    "vac_rate"
   ]
  },
  {
   "cell_type": "code",
   "execution_count": 7,
   "id": "767c0d3c-29e1-49d1-862d-d9617d6326a0",
   "metadata": {},
   "outputs": [
    {
     "data": {
      "image/png": "[encoded data removed]",
      "text/plain": [
       "<Figure size 640x480 with 1 Axes>"
      ]
     },
     "metadata": {},
     "output_type": "display_data"
    }
   ],
   "source": [
    "ax = sns.countplot(data = master_filt,\n",
    "              y = 'available',\n",
    "              hue = 'vacant',\n",
    "              palette = 'Blues')\n",
    "\n",
    "sns.move_legend(ax, \"center right\")"
   ]
  },
  {
   "cell_type": "markdown",
   "id": "124407e0-c52f-42a6-8eb2-42127f0a5f75",
   "metadata": {},
   "source": [
    "## Room Types"
   ]
  },
  {
   "cell_type": "code",
   "execution_count": 8,
   "id": "c9a36134-a861-4ca1-b7ec-ef18e82a6002",
   "metadata": {},
   "outputs": [
    {
     "data": {
      "image/png": "[encoded data removed]",
      "text/plain": [
       "<Figure size 640x480 with 1 Axes>"
      ]
     },
     "metadata": {},
     "output_type": "display_data"
    }
   ],
   "source": [
    "# select neighborhood\n",
    "\n",
    "master_short_filt = master_short.loc[master_short['census_NBH'] == 'East Boston'].reset_index()\n",
    "\n",
    "ax = sns.countplot(data = master_short_filt,\n",
    "                   y = 'room_type',\n",
    "                   hue = 'room_type',\n",
    "                   palette = 'Oranges')\n",
    "\n",
    "sns.move_legend(ax, \"center right\")"
   ]
  },
  {
   "cell_type": "code",
   "execution_count": 9,
   "id": "f341f2c4-842b-47cd-82e6-24f94b9dfd5b",
   "metadata": {},
   "outputs": [
    {
     "data": {
      "image/png": "[encoded data removed]",
      "text/plain": [
       "<Figure size 640x480 with 1 Axes>"
      ]
     },
     "metadata": {},
     "output_type": "display_data"
    }
   ],
   "source": [
    "# select tract\n",
    "\n",
    "master_short_filt = master_short.loc[master_short['census_tract'] == 512].reset_index()\n",
    "\n",
    "ax = sns.countplot(data = master_short_filt,\n",
    "                   y = 'room_type',\n",
    "                   hue = 'room_type',\n",
    "                   palette = 'Blues')\n",
    "\n",
    "sns.move_legend(ax, \"center right\")"
   ]
  },
  {
   "cell_type": "markdown",
   "id": "a29a5db6-5391-4dd1-9a60-6256a440e8e2",
   "metadata": {},
   "source": [
    "## Rental Length"
   ]
  },
  {
   "cell_type": "code",
   "execution_count": 10,
   "id": "8449781b-2ce9-40d6-a2b4-992c75865642",
   "metadata": {},
   "outputs": [
    {
     "data": {
      "text/html": [
       "<div>\n",
       "<style scoped>\n",
       "    .dataframe tbody tr th:only-of-type {\n",
       "        vertical-align: middle;\n",
       "    }\n",
       "\n",
       "    .dataframe tbody tr th {\n",
       "        vertical-align: top;\n",
       "    }\n",
       "\n",
       "    .dataframe thead th {\n",
       "        text-align: right;\n",
       "    }\n",
       "</style>\n",
       "<table border=\"1\" class=\"dataframe\">\n",
       "  <thead>\n",
       "    <tr style=\"text-align: right;\">\n",
       "      <th></th>\n",
       "      <th>index</th>\n",
       "      <th>id</th>\n",
       "      <th>date</th>\n",
       "      <th>available</th>\n",
       "      <th>price</th>\n",
       "      <th>room_type</th>\n",
       "      <th>minimum_nights</th>\n",
       "      <th>census_tract</th>\n",
       "      <th>census_NBH</th>\n",
       "      <th>vacant</th>\n",
       "    </tr>\n",
       "  </thead>\n",
       "  <tbody>\n",
       "    <tr>\n",
       "      <th>0</th>\n",
       "      <td>0</td>\n",
       "      <td>3781</td>\n",
       "      <td>2023-03-19</td>\n",
       "      <td>f</td>\n",
       "      <td>125.0</td>\n",
       "      <td>Entire home/apt</td>\n",
       "      <td>32</td>\n",
       "      <td>512.0</td>\n",
       "      <td>East Boston</td>\n",
       "      <td>0</td>\n",
       "    </tr>\n",
       "    <tr>\n",
       "      <th>1</th>\n",
       "      <td>1</td>\n",
       "      <td>3781</td>\n",
       "      <td>2023-03-20</td>\n",
       "      <td>f</td>\n",
       "      <td>125.0</td>\n",
       "      <td>Entire home/apt</td>\n",
       "      <td>32</td>\n",
       "      <td>512.0</td>\n",
       "      <td>East Boston</td>\n",
       "      <td>0</td>\n",
       "    </tr>\n",
       "    <tr>\n",
       "      <th>2</th>\n",
       "      <td>2</td>\n",
       "      <td>3781</td>\n",
       "      <td>2023-03-21</td>\n",
       "      <td>f</td>\n",
       "      <td>125.0</td>\n",
       "      <td>Entire home/apt</td>\n",
       "      <td>32</td>\n",
       "      <td>512.0</td>\n",
       "      <td>East Boston</td>\n",
       "      <td>0</td>\n",
       "    </tr>\n",
       "    <tr>\n",
       "      <th>3</th>\n",
       "      <td>3</td>\n",
       "      <td>3781</td>\n",
       "      <td>2023-03-22</td>\n",
       "      <td>f</td>\n",
       "      <td>125.0</td>\n",
       "      <td>Entire home/apt</td>\n",
       "      <td>32</td>\n",
       "      <td>512.0</td>\n",
       "      <td>East Boston</td>\n",
       "      <td>0</td>\n",
       "    </tr>\n",
       "    <tr>\n",
       "      <th>4</th>\n",
       "      <td>4</td>\n",
       "      <td>3781</td>\n",
       "      <td>2023-03-23</td>\n",
       "      <td>f</td>\n",
       "      <td>125.0</td>\n",
       "      <td>Entire home/apt</td>\n",
       "      <td>32</td>\n",
       "      <td>512.0</td>\n",
       "      <td>East Boston</td>\n",
       "      <td>0</td>\n",
       "    </tr>\n",
       "    <tr>\n",
       "      <th>...</th>\n",
       "      <td>...</td>\n",
       "      <td>...</td>\n",
       "      <td>...</td>\n",
       "      <td>...</td>\n",
       "      <td>...</td>\n",
       "      <td>...</td>\n",
       "      <td>...</td>\n",
       "      <td>...</td>\n",
       "      <td>...</td>\n",
       "      <td>...</td>\n",
       "    </tr>\n",
       "    <tr>\n",
       "      <th>19340</th>\n",
       "      <td>1366947</td>\n",
       "      <td>50085332</td>\n",
       "      <td>2024-03-13</td>\n",
       "      <td>f</td>\n",
       "      <td>536.0</td>\n",
       "      <td>Entire home/apt</td>\n",
       "      <td>1</td>\n",
       "      <td>512.0</td>\n",
       "      <td>East Boston</td>\n",
       "      <td>0</td>\n",
       "    </tr>\n",
       "    <tr>\n",
       "      <th>19341</th>\n",
       "      <td>1366948</td>\n",
       "      <td>50085332</td>\n",
       "      <td>2024-03-14</td>\n",
       "      <td>f</td>\n",
       "      <td>536.0</td>\n",
       "      <td>Entire home/apt</td>\n",
       "      <td>1</td>\n",
       "      <td>512.0</td>\n",
       "      <td>East Boston</td>\n",
       "      <td>0</td>\n",
       "    </tr>\n",
       "    <tr>\n",
       "      <th>19342</th>\n",
       "      <td>1366949</td>\n",
       "      <td>50085332</td>\n",
       "      <td>2024-03-15</td>\n",
       "      <td>f</td>\n",
       "      <td>536.0</td>\n",
       "      <td>Entire home/apt</td>\n",
       "      <td>1</td>\n",
       "      <td>512.0</td>\n",
       "      <td>East Boston</td>\n",
       "      <td>0</td>\n",
       "    </tr>\n",
       "    <tr>\n",
       "      <th>19343</th>\n",
       "      <td>1366950</td>\n",
       "      <td>50085332</td>\n",
       "      <td>2024-03-16</td>\n",
       "      <td>f</td>\n",
       "      <td>536.0</td>\n",
       "      <td>Entire home/apt</td>\n",
       "      <td>1</td>\n",
       "      <td>512.0</td>\n",
       "      <td>East Boston</td>\n",
       "      <td>0</td>\n",
       "    </tr>\n",
       "    <tr>\n",
       "      <th>19344</th>\n",
       "      <td>1366951</td>\n",
       "      <td>50085332</td>\n",
       "      <td>2024-03-17</td>\n",
       "      <td>f</td>\n",
       "      <td>536.0</td>\n",
       "      <td>Entire home/apt</td>\n",
       "      <td>1</td>\n",
       "      <td>512.0</td>\n",
       "      <td>East Boston</td>\n",
       "      <td>0</td>\n",
       "    </tr>\n",
       "  </tbody>\n",
       "</table>\n",
       "<p>19345 rows × 10 columns</p>\n",
       "</div>"
      ],
      "text/plain": [
       "         index        id        date available  price        room_type  \\\n",
       "0            0      3781  2023-03-19         f  125.0  Entire home/apt   \n",
       "1            1      3781  2023-03-20         f  125.0  Entire home/apt   \n",
       "2            2      3781  2023-03-21         f  125.0  Entire home/apt   \n",
       "3            3      3781  2023-03-22         f  125.0  Entire home/apt   \n",
       "4            4      3781  2023-03-23         f  125.0  Entire home/apt   \n",
       "...        ...       ...         ...       ...    ...              ...   \n",
       "19340  1366947  50085332  2024-03-13         f  536.0  Entire home/apt   \n",
       "19341  1366948  50085332  2024-03-14         f  536.0  Entire home/apt   \n",
       "19342  1366949  50085332  2024-03-15         f  536.0  Entire home/apt   \n",
       "19343  1366950  50085332  2024-03-16         f  536.0  Entire home/apt   \n",
       "19344  1366951  50085332  2024-03-17         f  536.0  Entire home/apt   \n",
       "\n",
       "       minimum_nights  census_tract   census_NBH  vacant  \n",
       "0                  32         512.0  East Boston       0  \n",
       "1                  32         512.0  East Boston       0  \n",
       "2                  32         512.0  East Boston       0  \n",
       "3                  32         512.0  East Boston       0  \n",
       "4                  32         512.0  East Boston       0  \n",
       "...               ...           ...          ...     ...  \n",
       "19340               1         512.0  East Boston       0  \n",
       "19341               1         512.0  East Boston       0  \n",
       "19342               1         512.0  East Boston       0  \n",
       "19343               1         512.0  East Boston       0  \n",
       "19344               1         512.0  East Boston       0  \n",
       "\n",
       "[19345 rows x 10 columns]"
      ]
     },
     "execution_count": 10,
     "metadata": {},
     "output_type": "execute_result"
    }
   ],
   "source": [
    "master_filt"
   ]
  },
  {
   "cell_type": "code",
   "execution_count": 11,
   "id": "db68edab-b005-480c-be25-dba97f377c2f",
   "metadata": {},
   "outputs": [
    {
     "data": {
      "text/plain": [
       "0.73"
      ]
     },
     "execution_count": 11,
     "metadata": {},
     "output_type": "execute_result"
    }
   ],
   "source": [
    "# select neighborhood\n",
    "\n",
    "master_filt = master.loc[master['census_NBH'] == 'East Boston'].reset_index()\n",
    "master_filt['rental_length'] = np.where(master_filt['minimum_nights'] < 28, 'short-term', 'long-term')\n",
    "\n",
    "sum = master_filt['rental_length'].value_counts().sum()\n",
    "short = master_filt['rental_length'].value_counts()['short-term']\n",
    "\n",
    "short_term_percent = (short / sum).round(2)\n",
    "short_term_percent"
   ]
  },
  {
   "cell_type": "code",
   "execution_count": 12,
   "id": "58e73cdb-afee-4fd0-8afd-3be89683cecf",
   "metadata": {},
   "outputs": [
    {
     "data": {
      "image/png": "[encoded data removed]",
      "text/plain": [
       "<Figure size 623.5x500 with 1 Axes>"
      ]
     },
     "metadata": {},
     "output_type": "display_data"
    }
   ],
   "source": [
    "ax = sns.displot(data = master_filt,\n",
    "                 x = 'minimum_nights',\n",
    "                 kind = 'hist',\n",
    "                 bins = 40,\n",
    "                 hue = 'rental_length',\n",
    "                 palette = 'Oranges')\n",
    "\n",
    "ax.refline(x = 28,\n",
    "           color = \"red\",\n",
    "           lw = 1)\n",
    "\n",
    "sns.move_legend(ax, \"center right\")"
   ]
  },
  {
   "cell_type": "code",
   "execution_count": 13,
   "id": "5d331d65-e3e6-49c1-b76f-3bffc700746e",
   "metadata": {},
   "outputs": [
    {
     "data": {
      "text/plain": [
       "0.77"
      ]
     },
     "execution_count": 13,
     "metadata": {},
     "output_type": "execute_result"
    }
   ],
   "source": [
    "# select tract\n",
    "\n",
    "master_filt = master.loc[master['census_tract'] == 512].reset_index()\n",
    "master_filt['rental_length'] = np.where(master_filt['minimum_nights'] < 28, 'short-term', 'long-term')\n",
    "\n",
    "sum = master_filt['rental_length'].value_counts().sum()\n",
    "short = master_filt['rental_length'].value_counts()['short-term']\n",
    "\n",
    "short_term_percent = (short / sum).round(2)\n",
    "short_term_percent"
   ]
  },
  {
   "cell_type": "code",
   "execution_count": 14,
   "id": "f9e30afd-89d1-49dd-9660-b0f628cebfd1",
   "metadata": {},
   "outputs": [
    {
     "data": {
      "image/png": "[encoded data removed]",
      "text/plain": [
       "<Figure size 623.5x500 with 1 Axes>"
      ]
     },
     "metadata": {},
     "output_type": "display_data"
    }
   ],
   "source": [
    "ax = sns.displot(data = master_filt,\n",
    "                 x = 'minimum_nights',\n",
    "                 kind = 'hist',\n",
    "                 bins = 20,\n",
    "                 hue = 'rental_length',\n",
    "                 palette = 'Blues')\n",
    "\n",
    "ax.refline(x = 28,\n",
    "           color = \"red\",\n",
    "           lw = 1)\n",
    "\n",
    "sns.move_legend(ax, \"center right\")"
   ]
  }
 ],
 "metadata": {
  "kernelspec": {
   "display_name": "Python 3 (ipykernel)",
   "language": "python",
   "name": "python3"
  },
  "language_info": {
   "codemirror_mode": {
    "name": "ipython",
    "version": 3
   },
   "file_extension": ".py",
   "mimetype": "text/x-python",
   "name": "python",
   "nbconvert_exporter": "python",
   "pygments_lexer": "ipython3",
   "version": "3.9.13"
  }
 },
 "nbformat": 4,
 "nbformat_minor": 5
}
