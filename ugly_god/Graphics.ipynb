{
 "cells": [
  {
   "cell_type": "markdown",
   "id": "291d61a6-3c17-49ee-8d2f-e0bec34df6ec",
   "metadata": {},
   "source": [
    "# Graphics\n",
    "\n",
    "This file creates graphic outputs of descriptive statistics for each neighborhood and tract."
   ]
  },
  {
   "cell_type": "code",
   "execution_count": 1,
   "id": "b8acb957-35f6-47d7-93fb-494bb655fa29",
   "metadata": {},
   "outputs": [],
   "source": [
    "import pandas as pd\n",
    "import numpy as np\n",
    "import matplotlib.pyplot as plt\n",
    "import seaborn as sns"
   ]
  },
  {
   "cell_type": "code",
   "execution_count": 17,
   "id": "3a0e12b3-92fe-44b0-9e27-6050ff15b82e",
   "metadata": {},
   "outputs": [
    {
     "data": {
      "text/html": [
       "<div>\n",
       "<style scoped>\n",
       "    .dataframe tbody tr th:only-of-type {\n",
       "        vertical-align: middle;\n",
       "    }\n",
       "\n",
       "    .dataframe tbody tr th {\n",
       "        vertical-align: top;\n",
       "    }\n",
       "\n",
       "    .dataframe thead th {\n",
       "        text-align: right;\n",
       "    }\n",
       "</style>\n",
       "<table border=\"1\" class=\"dataframe\">\n",
       "  <thead>\n",
       "    <tr style=\"text-align: right;\">\n",
       "      <th></th>\n",
       "      <th>id</th>\n",
       "      <th>date</th>\n",
       "      <th>available</th>\n",
       "      <th>price</th>\n",
       "      <th>minimum_nights</th>\n",
       "      <th>room_type</th>\n",
       "      <th>census_tract</th>\n",
       "      <th>census_NBH</th>\n",
       "    </tr>\n",
       "  </thead>\n",
       "  <tbody>\n",
       "    <tr>\n",
       "      <th>0</th>\n",
       "      <td>3781</td>\n",
       "      <td>2023-03-19</td>\n",
       "      <td>f</td>\n",
       "      <td>125.0</td>\n",
       "      <td>32.0</td>\n",
       "      <td>Entire home/apt</td>\n",
       "      <td>512.0</td>\n",
       "      <td>East Boston</td>\n",
       "    </tr>\n",
       "    <tr>\n",
       "      <th>1</th>\n",
       "      <td>3781</td>\n",
       "      <td>2023-03-20</td>\n",
       "      <td>f</td>\n",
       "      <td>125.0</td>\n",
       "      <td>32.0</td>\n",
       "      <td>Entire home/apt</td>\n",
       "      <td>512.0</td>\n",
       "      <td>East Boston</td>\n",
       "    </tr>\n",
       "    <tr>\n",
       "      <th>2</th>\n",
       "      <td>3781</td>\n",
       "      <td>2023-03-21</td>\n",
       "      <td>f</td>\n",
       "      <td>125.0</td>\n",
       "      <td>32.0</td>\n",
       "      <td>Entire home/apt</td>\n",
       "      <td>512.0</td>\n",
       "      <td>East Boston</td>\n",
       "    </tr>\n",
       "    <tr>\n",
       "      <th>3</th>\n",
       "      <td>3781</td>\n",
       "      <td>2023-03-22</td>\n",
       "      <td>f</td>\n",
       "      <td>125.0</td>\n",
       "      <td>32.0</td>\n",
       "      <td>Entire home/apt</td>\n",
       "      <td>512.0</td>\n",
       "      <td>East Boston</td>\n",
       "    </tr>\n",
       "    <tr>\n",
       "      <th>4</th>\n",
       "      <td>3781</td>\n",
       "      <td>2023-03-23</td>\n",
       "      <td>f</td>\n",
       "      <td>125.0</td>\n",
       "      <td>32.0</td>\n",
       "      <td>Entire home/apt</td>\n",
       "      <td>512.0</td>\n",
       "      <td>East Boston</td>\n",
       "    </tr>\n",
       "    <tr>\n",
       "      <th>...</th>\n",
       "      <td>...</td>\n",
       "      <td>...</td>\n",
       "      <td>...</td>\n",
       "      <td>...</td>\n",
       "      <td>...</td>\n",
       "      <td>...</td>\n",
       "      <td>...</td>\n",
       "      <td>...</td>\n",
       "    </tr>\n",
       "    <tr>\n",
       "      <th>1410018</th>\n",
       "      <td>2021483</td>\n",
       "      <td>2024-03-13</td>\n",
       "      <td>f</td>\n",
       "      <td>500.0</td>\n",
       "      <td>1.0</td>\n",
       "      <td>Entire home/apt</td>\n",
       "      <td>608.0</td>\n",
       "      <td>South Boston</td>\n",
       "    </tr>\n",
       "    <tr>\n",
       "      <th>1410019</th>\n",
       "      <td>2021483</td>\n",
       "      <td>2024-03-14</td>\n",
       "      <td>f</td>\n",
       "      <td>500.0</td>\n",
       "      <td>1.0</td>\n",
       "      <td>Entire home/apt</td>\n",
       "      <td>608.0</td>\n",
       "      <td>South Boston</td>\n",
       "    </tr>\n",
       "    <tr>\n",
       "      <th>1410020</th>\n",
       "      <td>2021483</td>\n",
       "      <td>2024-03-15</td>\n",
       "      <td>f</td>\n",
       "      <td>500.0</td>\n",
       "      <td>1.0</td>\n",
       "      <td>Entire home/apt</td>\n",
       "      <td>608.0</td>\n",
       "      <td>South Boston</td>\n",
       "    </tr>\n",
       "    <tr>\n",
       "      <th>1410021</th>\n",
       "      <td>2021483</td>\n",
       "      <td>2024-03-16</td>\n",
       "      <td>f</td>\n",
       "      <td>500.0</td>\n",
       "      <td>1.0</td>\n",
       "      <td>Entire home/apt</td>\n",
       "      <td>608.0</td>\n",
       "      <td>South Boston</td>\n",
       "    </tr>\n",
       "    <tr>\n",
       "      <th>1410022</th>\n",
       "      <td>2021483</td>\n",
       "      <td>2024-03-17</td>\n",
       "      <td>f</td>\n",
       "      <td>500.0</td>\n",
       "      <td>1.0</td>\n",
       "      <td>Entire home/apt</td>\n",
       "      <td>608.0</td>\n",
       "      <td>South Boston</td>\n",
       "    </tr>\n",
       "  </tbody>\n",
       "</table>\n",
       "<p>1410023 rows × 8 columns</p>\n",
       "</div>"
      ],
      "text/plain": [
       "              id        date available  price  minimum_nights  \\\n",
       "0           3781  2023-03-19         f  125.0            32.0   \n",
       "1           3781  2023-03-20         f  125.0            32.0   \n",
       "2           3781  2023-03-21         f  125.0            32.0   \n",
       "3           3781  2023-03-22         f  125.0            32.0   \n",
       "4           3781  2023-03-23         f  125.0            32.0   \n",
       "...          ...         ...       ...    ...             ...   \n",
       "1410018  2021483  2024-03-13         f  500.0             1.0   \n",
       "1410019  2021483  2024-03-14         f  500.0             1.0   \n",
       "1410020  2021483  2024-03-15         f  500.0             1.0   \n",
       "1410021  2021483  2024-03-16         f  500.0             1.0   \n",
       "1410022  2021483  2024-03-17         f  500.0             1.0   \n",
       "\n",
       "               room_type  census_tract    census_NBH  \n",
       "0        Entire home/apt         512.0   East Boston  \n",
       "1        Entire home/apt         512.0   East Boston  \n",
       "2        Entire home/apt         512.0   East Boston  \n",
       "3        Entire home/apt         512.0   East Boston  \n",
       "4        Entire home/apt         512.0   East Boston  \n",
       "...                  ...           ...           ...  \n",
       "1410018  Entire home/apt         608.0  South Boston  \n",
       "1410019  Entire home/apt         608.0  South Boston  \n",
       "1410020  Entire home/apt         608.0  South Boston  \n",
       "1410021  Entire home/apt         608.0  South Boston  \n",
       "1410022  Entire home/apt         608.0  South Boston  \n",
       "\n",
       "[1410023 rows x 8 columns]"
      ]
     },
     "execution_count": 17,
     "metadata": {},
     "output_type": "execute_result"
    }
   ],
   "source": [
    "master = pd.read_csv('../inputs/master.csv', index_col = False)\n",
    "master"
   ]
  },
  {
   "cell_type": "markdown",
   "id": "5e559078-a030-4fdb-ab2c-e17e655a8016",
   "metadata": {},
   "source": [
    "## Vacancy"
   ]
  },
  {
   "cell_type": "code",
   "execution_count": 34,
   "id": "639313ca-26fb-43e8-b6a0-f8f7febc2bc7",
   "metadata": {},
   "outputs": [
    {
     "data": {
      "text/plain": [
       "1410023"
      ]
     },
     "execution_count": 34,
     "metadata": {},
     "output_type": "execute_result"
    }
   ],
   "source": [
    "master['vacant'] = np.where(master['available'] == 't', 1, 0)   # 1 = vacant\n",
    "master['vacant'].value_counts()                                 # 0 = booked\n",
    "\n",
    "sum = master['vacant'].value_counts().sum()\n",
    "sum"
   ]
  },
  {
   "cell_type": "markdown",
   "id": "124407e0-c52f-42a6-8eb2-42127f0a5f75",
   "metadata": {},
   "source": [
    "## Room Types"
   ]
  },
  {
   "cell_type": "code",
   "execution_count": null,
   "id": "5874ecfc-91fd-468e-a2ff-63e9918c4ead",
   "metadata": {},
   "outputs": [],
   "source": []
  },
  {
   "cell_type": "markdown",
   "id": "a29a5db6-5391-4dd1-9a60-6256a440e8e2",
   "metadata": {},
   "source": [
    "## Rental Length"
   ]
  },
  {
   "cell_type": "code",
   "execution_count": null,
   "id": "db68edab-b005-480c-be25-dba97f377c2f",
   "metadata": {},
   "outputs": [],
   "source": []
  }
 ],
 "metadata": {
  "kernelspec": {
   "display_name": "Python 3 (ipykernel)",
   "language": "python",
   "name": "python3"
  },
  "language_info": {
   "codemirror_mode": {
    "name": "ipython",
    "version": 3
   },
   "file_extension": ".py",
   "mimetype": "text/x-python",
   "name": "python",
   "nbconvert_exporter": "python",
   "pygments_lexer": "ipython3",
   "version": "3.9.15"
  }
 },
 "nbformat": 4,
 "nbformat_minor": 5
}
