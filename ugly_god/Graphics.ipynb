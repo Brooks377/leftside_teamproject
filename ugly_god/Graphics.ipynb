{
 "cells": [
  {
   "cell_type": "markdown",
   "id": "291d61a6-3c17-49ee-8d2f-e0bec34df6ec",
   "metadata": {},
   "source": [
    "# Graphics\n",
    "\n",
    "This file creates graphic outputs of descriptive statistics for each neighborhood and tract."
   ]
  },
  {
   "cell_type": "code",
   "execution_count": 1,
   "id": "b8acb957-35f6-47d7-93fb-494bb655fa29",
   "metadata": {},
   "outputs": [],
   "source": [
    "import pandas as pd\n",
    "import numpy as np\n",
    "import matplotlib.pyplot as plt\n",
    "import seaborn as sns"
   ]
  },
  {
   "cell_type": "code",
   "execution_count": 66,
   "id": "3a0e12b3-92fe-44b0-9e27-6050ff15b82e",
   "metadata": {},
   "outputs": [
    {
     "data": {
      "text/html": [
       "<div>\n",
       "<style scoped>\n",
       "    .dataframe tbody tr th:only-of-type {\n",
       "        vertical-align: middle;\n",
       "    }\n",
       "\n",
       "    .dataframe tbody tr th {\n",
       "        vertical-align: top;\n",
       "    }\n",
       "\n",
       "    .dataframe thead th {\n",
       "        text-align: right;\n",
       "    }\n",
       "</style>\n",
       "<table border=\"1\" class=\"dataframe\">\n",
       "  <thead>\n",
       "    <tr style=\"text-align: right;\">\n",
       "      <th></th>\n",
       "      <th>id</th>\n",
       "      <th>date</th>\n",
       "      <th>available</th>\n",
       "      <th>price</th>\n",
       "      <th>minimum_nights</th>\n",
       "      <th>room_type</th>\n",
       "      <th>census_tract</th>\n",
       "      <th>census_NBH</th>\n",
       "    </tr>\n",
       "  </thead>\n",
       "  <tbody>\n",
       "    <tr>\n",
       "      <th>0</th>\n",
       "      <td>3781</td>\n",
       "      <td>2023-03-19</td>\n",
       "      <td>f</td>\n",
       "      <td>125.0</td>\n",
       "      <td>32.0</td>\n",
       "      <td>Entire home/apt</td>\n",
       "      <td>512.0</td>\n",
       "      <td>East Boston</td>\n",
       "    </tr>\n",
       "    <tr>\n",
       "      <th>1</th>\n",
       "      <td>3781</td>\n",
       "      <td>2023-03-20</td>\n",
       "      <td>f</td>\n",
       "      <td>125.0</td>\n",
       "      <td>32.0</td>\n",
       "      <td>Entire home/apt</td>\n",
       "      <td>512.0</td>\n",
       "      <td>East Boston</td>\n",
       "    </tr>\n",
       "    <tr>\n",
       "      <th>2</th>\n",
       "      <td>3781</td>\n",
       "      <td>2023-03-21</td>\n",
       "      <td>f</td>\n",
       "      <td>125.0</td>\n",
       "      <td>32.0</td>\n",
       "      <td>Entire home/apt</td>\n",
       "      <td>512.0</td>\n",
       "      <td>East Boston</td>\n",
       "    </tr>\n",
       "    <tr>\n",
       "      <th>3</th>\n",
       "      <td>3781</td>\n",
       "      <td>2023-03-22</td>\n",
       "      <td>f</td>\n",
       "      <td>125.0</td>\n",
       "      <td>32.0</td>\n",
       "      <td>Entire home/apt</td>\n",
       "      <td>512.0</td>\n",
       "      <td>East Boston</td>\n",
       "    </tr>\n",
       "    <tr>\n",
       "      <th>4</th>\n",
       "      <td>3781</td>\n",
       "      <td>2023-03-23</td>\n",
       "      <td>f</td>\n",
       "      <td>125.0</td>\n",
       "      <td>32.0</td>\n",
       "      <td>Entire home/apt</td>\n",
       "      <td>512.0</td>\n",
       "      <td>East Boston</td>\n",
       "    </tr>\n",
       "    <tr>\n",
       "      <th>...</th>\n",
       "      <td>...</td>\n",
       "      <td>...</td>\n",
       "      <td>...</td>\n",
       "      <td>...</td>\n",
       "      <td>...</td>\n",
       "      <td>...</td>\n",
       "      <td>...</td>\n",
       "      <td>...</td>\n",
       "    </tr>\n",
       "    <tr>\n",
       "      <th>1410018</th>\n",
       "      <td>2021483</td>\n",
       "      <td>2024-03-13</td>\n",
       "      <td>f</td>\n",
       "      <td>500.0</td>\n",
       "      <td>1.0</td>\n",
       "      <td>Entire home/apt</td>\n",
       "      <td>608.0</td>\n",
       "      <td>South Boston</td>\n",
       "    </tr>\n",
       "    <tr>\n",
       "      <th>1410019</th>\n",
       "      <td>2021483</td>\n",
       "      <td>2024-03-14</td>\n",
       "      <td>f</td>\n",
       "      <td>500.0</td>\n",
       "      <td>1.0</td>\n",
       "      <td>Entire home/apt</td>\n",
       "      <td>608.0</td>\n",
       "      <td>South Boston</td>\n",
       "    </tr>\n",
       "    <tr>\n",
       "      <th>1410020</th>\n",
       "      <td>2021483</td>\n",
       "      <td>2024-03-15</td>\n",
       "      <td>f</td>\n",
       "      <td>500.0</td>\n",
       "      <td>1.0</td>\n",
       "      <td>Entire home/apt</td>\n",
       "      <td>608.0</td>\n",
       "      <td>South Boston</td>\n",
       "    </tr>\n",
       "    <tr>\n",
       "      <th>1410021</th>\n",
       "      <td>2021483</td>\n",
       "      <td>2024-03-16</td>\n",
       "      <td>f</td>\n",
       "      <td>500.0</td>\n",
       "      <td>1.0</td>\n",
       "      <td>Entire home/apt</td>\n",
       "      <td>608.0</td>\n",
       "      <td>South Boston</td>\n",
       "    </tr>\n",
       "    <tr>\n",
       "      <th>1410022</th>\n",
       "      <td>2021483</td>\n",
       "      <td>2024-03-17</td>\n",
       "      <td>f</td>\n",
       "      <td>500.0</td>\n",
       "      <td>1.0</td>\n",
       "      <td>Entire home/apt</td>\n",
       "      <td>608.0</td>\n",
       "      <td>South Boston</td>\n",
       "    </tr>\n",
       "  </tbody>\n",
       "</table>\n",
       "<p>1410023 rows × 8 columns</p>\n",
       "</div>"
      ],
      "text/plain": [
       "              id        date available  price  minimum_nights  \\\n",
       "0           3781  2023-03-19         f  125.0            32.0   \n",
       "1           3781  2023-03-20         f  125.0            32.0   \n",
       "2           3781  2023-03-21         f  125.0            32.0   \n",
       "3           3781  2023-03-22         f  125.0            32.0   \n",
       "4           3781  2023-03-23         f  125.0            32.0   \n",
       "...          ...         ...       ...    ...             ...   \n",
       "1410018  2021483  2024-03-13         f  500.0             1.0   \n",
       "1410019  2021483  2024-03-14         f  500.0             1.0   \n",
       "1410020  2021483  2024-03-15         f  500.0             1.0   \n",
       "1410021  2021483  2024-03-16         f  500.0             1.0   \n",
       "1410022  2021483  2024-03-17         f  500.0             1.0   \n",
       "\n",
       "               room_type  census_tract    census_NBH  \n",
       "0        Entire home/apt         512.0   East Boston  \n",
       "1        Entire home/apt         512.0   East Boston  \n",
       "2        Entire home/apt         512.0   East Boston  \n",
       "3        Entire home/apt         512.0   East Boston  \n",
       "4        Entire home/apt         512.0   East Boston  \n",
       "...                  ...           ...           ...  \n",
       "1410018  Entire home/apt         608.0  South Boston  \n",
       "1410019  Entire home/apt         608.0  South Boston  \n",
       "1410020  Entire home/apt         608.0  South Boston  \n",
       "1410021  Entire home/apt         608.0  South Boston  \n",
       "1410022  Entire home/apt         608.0  South Boston  \n",
       "\n",
       "[1410023 rows x 8 columns]"
      ]
     },
     "execution_count": 66,
     "metadata": {},
     "output_type": "execute_result"
    }
   ],
   "source": [
    "master = pd.read_csv('../inputs/master.csv')\n",
    "master"
   ]
  },
  {
   "cell_type": "code",
   "execution_count": 80,
   "id": "eeb027c7-e8b7-4828-b35b-a8693931277f",
   "metadata": {},
   "outputs": [
    {
     "data": {
      "text/html": [
       "<div>\n",
       "<style scoped>\n",
       "    .dataframe tbody tr th:only-of-type {\n",
       "        vertical-align: middle;\n",
       "    }\n",
       "\n",
       "    .dataframe tbody tr th {\n",
       "        vertical-align: top;\n",
       "    }\n",
       "\n",
       "    .dataframe thead th {\n",
       "        text-align: right;\n",
       "    }\n",
       "</style>\n",
       "<table border=\"1\" class=\"dataframe\">\n",
       "  <thead>\n",
       "    <tr style=\"text-align: right;\">\n",
       "      <th></th>\n",
       "      <th>id</th>\n",
       "      <th>room_type</th>\n",
       "      <th>census_tract</th>\n",
       "      <th>census_NBH</th>\n",
       "    </tr>\n",
       "  </thead>\n",
       "  <tbody>\n",
       "    <tr>\n",
       "      <th>0</th>\n",
       "      <td>3781</td>\n",
       "      <td>Entire home/apt</td>\n",
       "      <td>512.00</td>\n",
       "      <td>East Boston</td>\n",
       "    </tr>\n",
       "    <tr>\n",
       "      <th>1</th>\n",
       "      <td>5506</td>\n",
       "      <td>Entire home/apt</td>\n",
       "      <td>814.00</td>\n",
       "      <td>Roxbury</td>\n",
       "    </tr>\n",
       "    <tr>\n",
       "      <th>2</th>\n",
       "      <td>6695</td>\n",
       "      <td>Entire home/apt</td>\n",
       "      <td>814.00</td>\n",
       "      <td>Roxbury</td>\n",
       "    </tr>\n",
       "    <tr>\n",
       "      <th>3</th>\n",
       "      <td>8789</td>\n",
       "      <td>Entire home/apt</td>\n",
       "      <td>203.02</td>\n",
       "      <td>Beacon Hill</td>\n",
       "    </tr>\n",
       "    <tr>\n",
       "      <th>4</th>\n",
       "      <td>4765070</td>\n",
       "      <td>Entire home/apt</td>\n",
       "      <td>812.00</td>\n",
       "      <td>Jamaica Plain</td>\n",
       "    </tr>\n",
       "    <tr>\n",
       "      <th>...</th>\n",
       "      <td>...</td>\n",
       "      <td>...</td>\n",
       "      <td>...</td>\n",
       "      <td>...</td>\n",
       "    </tr>\n",
       "    <tr>\n",
       "      <th>3859</th>\n",
       "      <td>1956275</td>\n",
       "      <td>Entire home/apt</td>\n",
       "      <td>1201.05</td>\n",
       "      <td>Jamaica Plain</td>\n",
       "    </tr>\n",
       "    <tr>\n",
       "      <th>3860</th>\n",
       "      <td>2000797</td>\n",
       "      <td>Private room</td>\n",
       "      <td>912.00</td>\n",
       "      <td>Dorchester</td>\n",
       "    </tr>\n",
       "    <tr>\n",
       "      <th>3861</th>\n",
       "      <td>2014651</td>\n",
       "      <td>Private room</td>\n",
       "      <td>1202.01</td>\n",
       "      <td>Jamaica Plain</td>\n",
       "    </tr>\n",
       "    <tr>\n",
       "      <th>3862</th>\n",
       "      <td>2014882</td>\n",
       "      <td>Private room</td>\n",
       "      <td>4.02</td>\n",
       "      <td>Brighton</td>\n",
       "    </tr>\n",
       "    <tr>\n",
       "      <th>3863</th>\n",
       "      <td>2021483</td>\n",
       "      <td>Entire home/apt</td>\n",
       "      <td>608.00</td>\n",
       "      <td>South Boston</td>\n",
       "    </tr>\n",
       "  </tbody>\n",
       "</table>\n",
       "<p>3864 rows × 4 columns</p>\n",
       "</div>"
      ],
      "text/plain": [
       "           id        room_type  census_tract     census_NBH\n",
       "0        3781  Entire home/apt        512.00    East Boston\n",
       "1        5506  Entire home/apt        814.00        Roxbury\n",
       "2        6695  Entire home/apt        814.00        Roxbury\n",
       "3        8789  Entire home/apt        203.02    Beacon Hill\n",
       "4     4765070  Entire home/apt        812.00  Jamaica Plain\n",
       "...       ...              ...           ...            ...\n",
       "3859  1956275  Entire home/apt       1201.05  Jamaica Plain\n",
       "3860  2000797     Private room        912.00     Dorchester\n",
       "3861  2014651     Private room       1202.01  Jamaica Plain\n",
       "3862  2014882     Private room          4.02       Brighton\n",
       "3863  2021483  Entire home/apt        608.00   South Boston\n",
       "\n",
       "[3864 rows x 4 columns]"
      ]
     },
     "execution_count": 80,
     "metadata": {},
     "output_type": "execute_result"
    }
   ],
   "source": [
    "master_short = pd.read_csv('../inputs/master_short.csv')\n",
    "master_short"
   ]
  },
  {
   "cell_type": "markdown",
   "id": "5e559078-a030-4fdb-ab2c-e17e655a8016",
   "metadata": {},
   "source": [
    "## Vacancy"
   ]
  },
  {
   "cell_type": "code",
   "execution_count": 67,
   "id": "639313ca-26fb-43e8-b6a0-f8f7febc2bc7",
   "metadata": {},
   "outputs": [
    {
     "data": {
      "text/plain": [
       "0.45"
      ]
     },
     "execution_count": 67,
     "metadata": {},
     "output_type": "execute_result"
    }
   ],
   "source": [
    "# select neighborhood\n",
    "\n",
    "master_filt = master.loc[master['census_NBH'] == 'East Boston'].reset_index()\n",
    "\n",
    "master_filt['vacant'] = np.where(master_filt['available'] == 't', 'vacant', 'booked')\n",
    "\n",
    "sum = master_filt['vacant'].value_counts().sum()\n",
    "vac = master_filt['vacant'].value_counts()['vacant']\n",
    "\n",
    "vac_rate = (vac / sum).round(2)\n",
    "vac_rate"
   ]
  },
  {
   "cell_type": "code",
   "execution_count": 68,
   "id": "d60a9906-d224-478b-a104-421a4e8d0c3a",
   "metadata": {},
   "outputs": [
    {
     "data": {
      "text/plain": [
       "<Axes: xlabel='count', ylabel='available'>"
      ]
     },
     "execution_count": 68,
     "metadata": {},
     "output_type": "execute_result"
    },
    {
     "data": {
      "image/png": "[encoded data removed]",
      "text/plain": [
       "<Figure size 640x480 with 1 Axes>"
      ]
     },
     "metadata": {},
     "output_type": "display_data"
    }
   ],
   "source": [
    "sns.countplot(data = master_filt,\n",
    "              y = 'available',\n",
    "              hue = 'vacant',\n",
    "              palette = 'Oranges')"
   ]
  },
  {
   "cell_type": "code",
   "execution_count": 69,
   "id": "de148e11-f962-4fce-8339-845b61d7ad06",
   "metadata": {},
   "outputs": [
    {
     "data": {
      "text/plain": [
       "0.62"
      ]
     },
     "execution_count": 69,
     "metadata": {},
     "output_type": "execute_result"
    }
   ],
   "source": [
    "# select tract\n",
    "\n",
    "master_filt = master.loc[master['census_tract'] == 512].reset_index()\n",
    "\n",
    "master_filt['vacant'] = np.where(master_filt['available'] == 't', 1, 0)      # 1 = vacant\n",
    "                                                                             # 0 = booked\n",
    "\n",
    "sum = master_filt['vacant'].value_counts().sum()\n",
    "vac = master_filt['vacant'].value_counts()[1]\n",
    "\n",
    "vac_rate = (vac / sum).round(2)\n",
    "vac_rate"
   ]
  },
  {
   "cell_type": "code",
   "execution_count": 70,
   "id": "767c0d3c-29e1-49d1-862d-d9617d6326a0",
   "metadata": {},
   "outputs": [
    {
     "data": {
      "text/plain": [
       "<Axes: xlabel='count', ylabel='available'>"
      ]
     },
     "execution_count": 70,
     "metadata": {},
     "output_type": "execute_result"
    },
    {
     "data": {
      "image/png": "[encoded data removed]",
      "text/plain": [
       "<Figure size 640x480 with 1 Axes>"
      ]
     },
     "metadata": {},
     "output_type": "display_data"
    }
   ],
   "source": [
    "sns.countplot(data = master_filt,\n",
    "              y = 'available',\n",
    "              hue = 'vacant',\n",
    "              palette = 'Blues')"
   ]
  },
  {
   "cell_type": "markdown",
   "id": "124407e0-c52f-42a6-8eb2-42127f0a5f75",
   "metadata": {},
   "source": [
    "## Room Types"
   ]
  },
  {
   "cell_type": "code",
   "execution_count": 81,
   "id": "c9a36134-a861-4ca1-b7ec-ef18e82a6002",
   "metadata": {},
   "outputs": [
    {
     "data": {
      "image/png": "[encoded data removed]",
      "text/plain": [
       "<Figure size 640x480 with 1 Axes>"
      ]
     },
     "metadata": {},
     "output_type": "display_data"
    }
   ],
   "source": [
    "# select neighborhood\n",
    "\n",
    "master_short_filt = master_short.loc[master_short['census_NBH'] == 'East Boston'].reset_index()\n",
    "\n",
    "ax = sns.countplot(data = master_short_filt,\n",
    "                   y = 'room_type',\n",
    "                   hue = 'room_type',\n",
    "                   palette = 'Oranges')\n",
    "\n",
    "sns.move_legend(ax, \"center right\")"
   ]
  },
  {
   "cell_type": "code",
   "execution_count": 82,
   "id": "f341f2c4-842b-47cd-82e6-24f94b9dfd5b",
   "metadata": {},
   "outputs": [
    {
     "data": {
      "image/png": "[encoded data removed]",
      "text/plain": [
       "<Figure size 640x480 with 1 Axes>"
      ]
     },
     "metadata": {},
     "output_type": "display_data"
    }
   ],
   "source": [
    "# select tract\n",
    "\n",
    "master_short_filt = master_short.loc[master_short['census_tract'] == 512].reset_index()\n",
    "\n",
    "ax = sns.countplot(data = master_short_filt,\n",
    "                   y = 'room_type',\n",
    "                   hue = 'room_type',\n",
    "                   palette = 'Blues')\n",
    "\n",
    "sns.move_legend(ax, \"center right\")"
   ]
  },
  {
   "cell_type": "markdown",
   "id": "a29a5db6-5391-4dd1-9a60-6256a440e8e2",
   "metadata": {},
   "source": [
    "## Rental Length"
   ]
  },
  {
   "cell_type": "code",
   "execution_count": 83,
   "id": "db68edab-b005-480c-be25-dba97f377c2f",
   "metadata": {},
   "outputs": [
    {
     "ename": "ValueError",
     "evalue": "Could not interpret input 'minimum_nights'",
     "output_type": "error",
     "traceback": [
      "\u001b[0;31m---------------------------------------------------------------------------\u001b[0m",
      "\u001b[0;31mValueError\u001b[0m                                Traceback (most recent call last)",
      "Cell \u001b[0;32mIn[83], line 3\u001b[0m\n\u001b[1;32m      1\u001b[0m master_filt \u001b[38;5;241m=\u001b[39m master\u001b[38;5;241m.\u001b[39mloc[master[\u001b[38;5;124m'\u001b[39m\u001b[38;5;124mcensus_NBH\u001b[39m\u001b[38;5;124m'\u001b[39m] \u001b[38;5;241m==\u001b[39m \u001b[38;5;124m'\u001b[39m\u001b[38;5;124mEast Boston\u001b[39m\u001b[38;5;124m'\u001b[39m]\u001b[38;5;241m.\u001b[39mreset_index()\n\u001b[0;32m----> 3\u001b[0m ax \u001b[38;5;241m=\u001b[39m \u001b[43msns\u001b[49m\u001b[38;5;241;43m.\u001b[39;49m\u001b[43mcountplot\u001b[49m\u001b[43m(\u001b[49m\u001b[43mdata\u001b[49m\u001b[43m \u001b[49m\u001b[38;5;241;43m=\u001b[39;49m\u001b[43m \u001b[49m\u001b[43mmaster_short_filt\u001b[49m\u001b[43m,\u001b[49m\n\u001b[1;32m      4\u001b[0m \u001b[43m              \u001b[49m\u001b[43mx\u001b[49m\u001b[43m \u001b[49m\u001b[38;5;241;43m=\u001b[39;49m\u001b[43m \u001b[49m\u001b[38;5;124;43m'\u001b[39;49m\u001b[38;5;124;43mminimum_nights\u001b[39;49m\u001b[38;5;124;43m'\u001b[39;49m\u001b[43m,\u001b[49m\n\u001b[1;32m      5\u001b[0m \u001b[43m              \u001b[49m\u001b[43mhue\u001b[49m\u001b[43m \u001b[49m\u001b[38;5;241;43m=\u001b[39;49m\u001b[43m \u001b[49m\u001b[38;5;124;43m'\u001b[39;49m\u001b[38;5;124;43mminimum_nights\u001b[39;49m\u001b[38;5;124;43m'\u001b[39;49m\u001b[43m,\u001b[49m\n\u001b[1;32m      6\u001b[0m \u001b[43m              \u001b[49m\u001b[43mpalette\u001b[49m\u001b[43m \u001b[49m\u001b[38;5;241;43m=\u001b[39;49m\u001b[43m \u001b[49m\u001b[38;5;124;43m'\u001b[39;49m\u001b[38;5;124;43mBlues\u001b[39;49m\u001b[38;5;124;43m'\u001b[39;49m\u001b[43m)\u001b[49m\n\u001b[1;32m      8\u001b[0m sns\u001b[38;5;241m.\u001b[39mmove_legend(ax, \u001b[38;5;124m\"\u001b[39m\u001b[38;5;124mcenter right\u001b[39m\u001b[38;5;124m\"\u001b[39m)\n",
      "File \u001b[0;32m/opt/anaconda3/lib/python3.9/site-packages/seaborn/categorical.py:2943\u001b[0m, in \u001b[0;36mcountplot\u001b[0;34m(data, x, y, hue, order, hue_order, orient, color, palette, saturation, width, dodge, ax, **kwargs)\u001b[0m\n\u001b[1;32m   2940\u001b[0m \u001b[38;5;28;01melif\u001b[39;00m x \u001b[38;5;129;01mis\u001b[39;00m \u001b[38;5;129;01mnot\u001b[39;00m \u001b[38;5;28;01mNone\u001b[39;00m \u001b[38;5;129;01mand\u001b[39;00m y \u001b[38;5;129;01mis\u001b[39;00m \u001b[38;5;129;01mnot\u001b[39;00m \u001b[38;5;28;01mNone\u001b[39;00m:\n\u001b[1;32m   2941\u001b[0m     \u001b[38;5;28;01mraise\u001b[39;00m \u001b[38;5;167;01mValueError\u001b[39;00m(\u001b[38;5;124m\"\u001b[39m\u001b[38;5;124mCannot pass values for both `x` and `y`\u001b[39m\u001b[38;5;124m\"\u001b[39m)\n\u001b[0;32m-> 2943\u001b[0m plotter \u001b[38;5;241m=\u001b[39m \u001b[43m_CountPlotter\u001b[49m\u001b[43m(\u001b[49m\n\u001b[1;32m   2944\u001b[0m \u001b[43m    \u001b[49m\u001b[43mx\u001b[49m\u001b[43m,\u001b[49m\u001b[43m \u001b[49m\u001b[43my\u001b[49m\u001b[43m,\u001b[49m\u001b[43m \u001b[49m\u001b[43mhue\u001b[49m\u001b[43m,\u001b[49m\u001b[43m \u001b[49m\u001b[43mdata\u001b[49m\u001b[43m,\u001b[49m\u001b[43m \u001b[49m\u001b[43morder\u001b[49m\u001b[43m,\u001b[49m\u001b[43m \u001b[49m\u001b[43mhue_order\u001b[49m\u001b[43m,\u001b[49m\n\u001b[1;32m   2945\u001b[0m \u001b[43m    \u001b[49m\u001b[43mestimator\u001b[49m\u001b[43m,\u001b[49m\u001b[43m \u001b[49m\u001b[43merrorbar\u001b[49m\u001b[43m,\u001b[49m\u001b[43m \u001b[49m\u001b[43mn_boot\u001b[49m\u001b[43m,\u001b[49m\u001b[43m \u001b[49m\u001b[43munits\u001b[49m\u001b[43m,\u001b[49m\u001b[43m \u001b[49m\u001b[43mseed\u001b[49m\u001b[43m,\u001b[49m\n\u001b[1;32m   2946\u001b[0m \u001b[43m    \u001b[49m\u001b[43morient\u001b[49m\u001b[43m,\u001b[49m\u001b[43m \u001b[49m\u001b[43mcolor\u001b[49m\u001b[43m,\u001b[49m\u001b[43m \u001b[49m\u001b[43mpalette\u001b[49m\u001b[43m,\u001b[49m\u001b[43m \u001b[49m\u001b[43msaturation\u001b[49m\u001b[43m,\u001b[49m\n\u001b[1;32m   2947\u001b[0m \u001b[43m    \u001b[49m\u001b[43mwidth\u001b[49m\u001b[43m,\u001b[49m\u001b[43m \u001b[49m\u001b[43merrcolor\u001b[49m\u001b[43m,\u001b[49m\u001b[43m \u001b[49m\u001b[43merrwidth\u001b[49m\u001b[43m,\u001b[49m\u001b[43m \u001b[49m\u001b[43mcapsize\u001b[49m\u001b[43m,\u001b[49m\u001b[43m \u001b[49m\u001b[43mdodge\u001b[49m\n\u001b[1;32m   2948\u001b[0m \u001b[43m\u001b[49m\u001b[43m)\u001b[49m\n\u001b[1;32m   2950\u001b[0m plotter\u001b[38;5;241m.\u001b[39mvalue_label \u001b[38;5;241m=\u001b[39m \u001b[38;5;124m\"\u001b[39m\u001b[38;5;124mcount\u001b[39m\u001b[38;5;124m\"\u001b[39m\n\u001b[1;32m   2952\u001b[0m \u001b[38;5;28;01mif\u001b[39;00m ax \u001b[38;5;129;01mis\u001b[39;00m \u001b[38;5;28;01mNone\u001b[39;00m:\n",
      "File \u001b[0;32m/opt/anaconda3/lib/python3.9/site-packages/seaborn/categorical.py:1530\u001b[0m, in \u001b[0;36m_BarPlotter.__init__\u001b[0;34m(self, x, y, hue, data, order, hue_order, estimator, errorbar, n_boot, units, seed, orient, color, palette, saturation, width, errcolor, errwidth, capsize, dodge)\u001b[0m\n\u001b[1;32m   1525\u001b[0m \u001b[38;5;28;01mdef\u001b[39;00m \u001b[38;5;21m__init__\u001b[39m(\u001b[38;5;28mself\u001b[39m, x, y, hue, data, order, hue_order,\n\u001b[1;32m   1526\u001b[0m              estimator, errorbar, n_boot, units, seed,\n\u001b[1;32m   1527\u001b[0m              orient, color, palette, saturation, width,\n\u001b[1;32m   1528\u001b[0m              errcolor, errwidth, capsize, dodge):\n\u001b[1;32m   1529\u001b[0m     \u001b[38;5;124;03m\"\"\"Initialize the plotter.\"\"\"\u001b[39;00m\n\u001b[0;32m-> 1530\u001b[0m     \u001b[38;5;28;43mself\u001b[39;49m\u001b[38;5;241;43m.\u001b[39;49m\u001b[43mestablish_variables\u001b[49m\u001b[43m(\u001b[49m\u001b[43mx\u001b[49m\u001b[43m,\u001b[49m\u001b[43m \u001b[49m\u001b[43my\u001b[49m\u001b[43m,\u001b[49m\u001b[43m \u001b[49m\u001b[43mhue\u001b[49m\u001b[43m,\u001b[49m\u001b[43m \u001b[49m\u001b[43mdata\u001b[49m\u001b[43m,\u001b[49m\u001b[43m \u001b[49m\u001b[43morient\u001b[49m\u001b[43m,\u001b[49m\n\u001b[1;32m   1531\u001b[0m \u001b[43m                             \u001b[49m\u001b[43morder\u001b[49m\u001b[43m,\u001b[49m\u001b[43m \u001b[49m\u001b[43mhue_order\u001b[49m\u001b[43m,\u001b[49m\u001b[43m \u001b[49m\u001b[43munits\u001b[49m\u001b[43m)\u001b[49m\n\u001b[1;32m   1532\u001b[0m     \u001b[38;5;28mself\u001b[39m\u001b[38;5;241m.\u001b[39mestablish_colors(color, palette, saturation)\n\u001b[1;32m   1533\u001b[0m     \u001b[38;5;28mself\u001b[39m\u001b[38;5;241m.\u001b[39mestimate_statistic(estimator, errorbar, n_boot, seed)\n",
      "File \u001b[0;32m/opt/anaconda3/lib/python3.9/site-packages/seaborn/categorical.py:541\u001b[0m, in \u001b[0;36m_CategoricalPlotter.establish_variables\u001b[0;34m(self, x, y, hue, data, orient, order, hue_order, units)\u001b[0m\n\u001b[1;32m    539\u001b[0m     \u001b[38;5;28;01mif\u001b[39;00m \u001b[38;5;28misinstance\u001b[39m(var, \u001b[38;5;28mstr\u001b[39m):\n\u001b[1;32m    540\u001b[0m         err \u001b[38;5;241m=\u001b[39m \u001b[38;5;124mf\u001b[39m\u001b[38;5;124m\"\u001b[39m\u001b[38;5;124mCould not interpret input \u001b[39m\u001b[38;5;124m'\u001b[39m\u001b[38;5;132;01m{\u001b[39;00mvar\u001b[38;5;132;01m}\u001b[39;00m\u001b[38;5;124m'\u001b[39m\u001b[38;5;124m\"\u001b[39m\n\u001b[0;32m--> 541\u001b[0m         \u001b[38;5;28;01mraise\u001b[39;00m \u001b[38;5;167;01mValueError\u001b[39;00m(err)\n\u001b[1;32m    543\u001b[0m \u001b[38;5;66;03m# Figure out the plotting orientation\u001b[39;00m\n\u001b[1;32m    544\u001b[0m orient \u001b[38;5;241m=\u001b[39m infer_orient(\n\u001b[1;32m    545\u001b[0m     x, y, orient, require_numeric\u001b[38;5;241m=\u001b[39m\u001b[38;5;28mself\u001b[39m\u001b[38;5;241m.\u001b[39mrequire_numeric\n\u001b[1;32m    546\u001b[0m )\n",
      "\u001b[0;31mValueError\u001b[0m: Could not interpret input 'minimum_nights'"
     ]
    }
   ],
   "source": [
    "master_filt = master.loc[master['census_NBH'] == 'East Boston'].reset_index()\n",
    "\n",
    "ax = sns.countplot(data = master_short_filt,\n",
    "              x = 'minimum_nights',\n",
    "              hue = 'minimum_nights',\n",
    "              palette = 'Blues')\n",
    "\n",
    "sns.move_legend(ax, \"center right\")"
   ]
  },
  {
   "cell_type": "code",
   "execution_count": null,
   "id": "5d331d65-e3e6-49c1-b76f-3bffc700746e",
   "metadata": {},
   "outputs": [],
   "source": []
  },
  {
   "cell_type": "code",
   "execution_count": null,
   "id": "a8f7a409-e23e-4a41-a892-352a1c3bd0c9",
   "metadata": {},
   "outputs": [],
   "source": []
  },
  {
   "cell_type": "code",
   "execution_count": null,
   "id": "7b00c525-e000-4281-b030-4b94ba629f87",
   "metadata": {},
   "outputs": [],
   "source": []
  }
 ],
 "metadata": {
  "kernelspec": {
   "display_name": "Python 3 (ipykernel)",
   "language": "python",
   "name": "python3"
  },
  "language_info": {
   "codemirror_mode": {
    "name": "ipython",
    "version": 3
   },
   "file_extension": ".py",
   "mimetype": "text/x-python",
   "name": "python",
   "nbconvert_exporter": "python",
   "pygments_lexer": "ipython3",
   "version": "3.9.15"
  }
 },
 "nbformat": 4,
 "nbformat_minor": 5
}
