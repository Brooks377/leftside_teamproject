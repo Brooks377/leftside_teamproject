{
 "cells": [
  {
   "cell_type": "code",
   "execution_count": null,
   "id": "2bda7fc1-1c45-4ea8-a58a-4f9c0cc1e64e",
   "metadata": {},
   "outputs": [],
   "source": [
    "# Describe your data sources"
   ]
  },
  {
   "cell_type": "code",
   "execution_count": null,
   "id": "e2cb5b3d-690b-4be0-9022-8428e566e5fd",
   "metadata": {},
   "outputs": [],
   "source": [
    "# Explain how we got the data, got it into python, issues when cleaning"
   ]
  },
  {
   "cell_type": "code",
   "execution_count": null,
   "id": "85f1deee-52bf-421e-b116-1b57a0cf7eeb",
   "metadata": {},
   "outputs": [],
   "source": [
    "# EDA observations"
   ]
  },
  {
   "cell_type": "code",
   "execution_count": null,
   "id": "e18b17b0-4e26-412f-8f5b-c5e88438f2d5",
   "metadata": {},
   "outputs": [],
   "source": [
    "# EDA figures"
   ]
  }
 ],
 "metadata": {
  "kernelspec": {
   "display_name": "Python 3 (ipykernel)",
   "language": "python",
   "name": "python3"
  },
  "language_info": {
   "codemirror_mode": {
    "name": "ipython",
    "version": 3
   },
   "file_extension": ".py",
   "mimetype": "text/x-python",
   "name": "python",
   "nbconvert_exporter": "python",
   "pygments_lexer": "ipython3",
   "version": "3.9.13"
  }
 },
 "nbformat": 4,
 "nbformat_minor": 5
}
