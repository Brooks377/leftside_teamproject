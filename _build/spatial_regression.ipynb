{
 "cells": [
  {
   "cell_type": "markdown",
   "id": "2a37d86f-af1a-4c40-a8f2-682308d84af7",
   "metadata": {},
   "source": [
    "# Spatial Regression\n",
    "- In other words, do airBnB hosts care what the prices of nearby listings are?"
   ]
  },
  {
   "cell_type": "markdown",
   "id": "ae41442e-0ba5-49ee-bc98-78805811b395",
   "metadata": {},
   "source": [
    "### First I Run a regular regression, doesn't have to be very good\n",
    "- r2 score doesn't matter here\n",
    "- We are interested in the independent variables and their coefficients/P-Values"
   ]
  },
  {
   "cell_type": "code",
   "execution_count": 1,
   "id": "e74ec8a5-16cc-4eb5-9e9f-89b4b9015567",
   "metadata": {},
   "outputs": [],
   "source": [
    "import os\n",
    "os.environ['USE_PYGEOS'] = '0'\n",
    "import warnings\n",
    "warnings.filterwarnings('ignore', message='The weights matrix is not fully connected')"
   ]
  },
  {
   "cell_type": "code",
   "execution_count": 2,
   "id": "d3cb0f51-9f5f-4908-8908-18e403bde700",
   "metadata": {},
   "outputs": [],
   "source": [
    "# !pip install spreg\n",
    "# !pip install libpysal\n",
    "import shapely\n",
    "import pandas as pd\n",
    "from statsmodels.formula.api import ols as sm_ols\n",
    "import numpy as np\n",
    "import seaborn as sns\n",
    "import matplotlib.pyplot as plt\n",
    "import statsmodels.api as sm\n",
    "from libpysal.weights import KNN\n",
    "from libpysal.cg import KDTree\n",
    "import spreg\n",
    "import scipy.stats as stats\n",
    "from sklearn.metrics import mean_squared_error"
   ]
  },
  {
   "cell_type": "code",
   "execution_count": 3,
   "id": "76f01a6e-0c66-45f6-a1eb-67a5b2cba460",
   "metadata": {},
   "outputs": [],
   "source": [
    "pd.set_option('display.max_columns', 150)"
   ]
  },
  {
   "cell_type": "code",
   "execution_count": 4,
   "id": "4191785a-ed7e-4994-ae1b-36bbdb3cddbd",
   "metadata": {},
   "outputs": [],
   "source": [
    "# Boston airbnb listings data\n",
    "listings = pd.read_csv('../inputs/listings.csv.gz', compression='gzip')"
   ]
  },
  {
   "cell_type": "code",
   "execution_count": 5,
   "id": "6183f193-7e95-401a-b8bc-91fe6671a919",
   "metadata": {},
   "outputs": [],
   "source": [
    "# getting number of bathrooms as a number for regression\n",
    "num_pattern = r'(\\d+\\.*\\d*)'\n",
    "listings['bath_num'] = listings['bathrooms_text'].str.extract(num_pattern).astype(float)"
   ]
  },
  {
   "cell_type": "code",
   "execution_count": 6,
   "id": "fe055617-9c8f-41d0-9e2f-2a55698245c0",
   "metadata": {},
   "outputs": [],
   "source": [
    "# make the price a float\n",
    "listings['price'] = listings['price'].apply(lambda x: float(x.replace('$', '').replace(',', '')))"
   ]
  },
  {
   "cell_type": "code",
   "execution_count": 7,
   "id": "1aaf605a-047f-4f23-87a7-bda631606fbc",
   "metadata": {},
   "outputs": [],
   "source": [
    "# get some variables that I think could predict price + geography\n",
    "listings_4reg = listings[['bath_num','minimum_nights','bathrooms_text','beds', 'bedrooms','accommodates','price','latitude', 'longitude']].dropna().reset_index(drop=True)"
   ]
  },
  {
   "cell_type": "code",
   "execution_count": 8,
   "id": "24ded201-9521-4b1b-8bb0-11d04474a79f",
   "metadata": {},
   "outputs": [],
   "source": [
    "# create regression a la assignment 6\n",
    "reg = sm_ols('price ~ accommodates + bath_num + bedrooms', data=listings_4reg).fit()"
   ]
  },
  {
   "cell_type": "code",
   "execution_count": 9,
   "id": "d62cf161-28f2-4ed1-9757-7a15d8fe5328",
   "metadata": {},
   "outputs": [
    {
     "data": {
      "text/html": [
       "<table class=\"simpletable\">\n",
       "<caption>OLS Regression Results</caption>\n",
       "<tr>\n",
       "  <th>Dep. Variable:</th>          <td>price</td>      <th>  R-squared:         </th> <td>   0.170</td> \n",
       "</tr>\n",
       "<tr>\n",
       "  <th>Model:</th>                   <td>OLS</td>       <th>  Adj. R-squared:    </th> <td>   0.170</td> \n",
       "</tr>\n",
       "<tr>\n",
       "  <th>Method:</th>             <td>Least Squares</td>  <th>  F-statistic:       </th> <td>   228.4</td> \n",
       "</tr>\n",
       "<tr>\n",
       "  <th>Date:</th>             <td>Sat, 29 Apr 2023</td> <th>  Prob (F-statistic):</th> <td>8.94e-135</td>\n",
       "</tr>\n",
       "<tr>\n",
       "  <th>Time:</th>                 <td>14:38:20</td>     <th>  Log-Likelihood:    </th> <td> -23133.</td> \n",
       "</tr>\n",
       "<tr>\n",
       "  <th>No. Observations:</th>      <td>  3343</td>      <th>  AIC:               </th> <td>4.627e+04</td>\n",
       "</tr>\n",
       "<tr>\n",
       "  <th>Df Residuals:</th>          <td>  3339</td>      <th>  BIC:               </th> <td>4.630e+04</td>\n",
       "</tr>\n",
       "<tr>\n",
       "  <th>Df Model:</th>              <td>     3</td>      <th>                     </th>     <td> </td>    \n",
       "</tr>\n",
       "<tr>\n",
       "  <th>Covariance Type:</th>      <td>nonrobust</td>    <th>                     </th>     <td> </td>    \n",
       "</tr>\n",
       "</table>\n",
       "<table class=\"simpletable\">\n",
       "<tr>\n",
       "        <td></td>          <th>coef</th>     <th>std err</th>      <th>t</th>      <th>P>|t|</th>  <th>[0.025</th>    <th>0.975]</th>  \n",
       "</tr>\n",
       "<tr>\n",
       "  <th>Intercept</th>    <td>  -23.8794</td> <td>   10.738</td> <td>   -2.224</td> <td> 0.026</td> <td>  -44.933</td> <td>   -2.826</td>\n",
       "</tr>\n",
       "<tr>\n",
       "  <th>accommodates</th> <td>   30.7784</td> <td>    2.529</td> <td>   12.171</td> <td> 0.000</td> <td>   25.820</td> <td>   35.737</td>\n",
       "</tr>\n",
       "<tr>\n",
       "  <th>bath_num</th>     <td>   77.4061</td> <td>    7.780</td> <td>    9.950</td> <td> 0.000</td> <td>   62.153</td> <td>   92.660</td>\n",
       "</tr>\n",
       "<tr>\n",
       "  <th>bedrooms</th>     <td>   12.1055</td> <td>    4.215</td> <td>    2.872</td> <td> 0.004</td> <td>    3.842</td> <td>   20.369</td>\n",
       "</tr>\n",
       "</table>\n",
       "<table class=\"simpletable\">\n",
       "<tr>\n",
       "  <th>Omnibus:</th>       <td>7906.896</td> <th>  Durbin-Watson:     </th>   <td>   1.896</td>  \n",
       "</tr>\n",
       "<tr>\n",
       "  <th>Prob(Omnibus):</th>  <td> 0.000</td>  <th>  Jarque-Bera (JB):  </th> <td>97752592.896</td>\n",
       "</tr>\n",
       "<tr>\n",
       "  <th>Skew:</th>           <td>23.243</td>  <th>  Prob(JB):          </th>   <td>    0.00</td>  \n",
       "</tr>\n",
       "<tr>\n",
       "  <th>Kurtosis:</th>       <td>839.434</td> <th>  Cond. No.          </th>   <td>    13.6</td>  \n",
       "</tr>\n",
       "</table><br/><br/>Notes:<br/>[1] Standard Errors assume that the covariance matrix of the errors is correctly specified."
      ],
      "text/plain": [
       "<class 'statsmodels.iolib.summary.Summary'>\n",
       "\"\"\"\n",
       "                            OLS Regression Results                            \n",
       "==============================================================================\n",
       "Dep. Variable:                  price   R-squared:                       0.170\n",
       "Model:                            OLS   Adj. R-squared:                  0.170\n",
       "Method:                 Least Squares   F-statistic:                     228.4\n",
       "Date:                Sat, 29 Apr 2023   Prob (F-statistic):          8.94e-135\n",
       "Time:                        14:38:20   Log-Likelihood:                -23133.\n",
       "No. Observations:                3343   AIC:                         4.627e+04\n",
       "Df Residuals:                    3339   BIC:                         4.630e+04\n",
       "Df Model:                           3                                         \n",
       "Covariance Type:            nonrobust                                         \n",
       "================================================================================\n",
       "                   coef    std err          t      P>|t|      [0.025      0.975]\n",
       "--------------------------------------------------------------------------------\n",
       "Intercept      -23.8794     10.738     -2.224      0.026     -44.933      -2.826\n",
       "accommodates    30.7784      2.529     12.171      0.000      25.820      35.737\n",
       "bath_num        77.4061      7.780      9.950      0.000      62.153      92.660\n",
       "bedrooms        12.1055      4.215      2.872      0.004       3.842      20.369\n",
       "==============================================================================\n",
       "Omnibus:                     7906.896   Durbin-Watson:                   1.896\n",
       "Prob(Omnibus):                  0.000   Jarque-Bera (JB):         97752592.896\n",
       "Skew:                          23.243   Prob(JB):                         0.00\n",
       "Kurtosis:                     839.434   Cond. No.                         13.6\n",
       "==============================================================================\n",
       "\n",
       "Notes:\n",
       "[1] Standard Errors assume that the covariance matrix of the errors is correctly specified.\n",
       "\"\"\""
      ]
     },
     "execution_count": 9,
     "metadata": {},
     "output_type": "execute_result"
    }
   ],
   "source": [
    "reg.summary()"
   ]
  },
  {
   "cell_type": "markdown",
   "id": "0e97253f-ff12-48ca-b968-b2865e9f8607",
   "metadata": {},
   "source": [
    "- The P-Values of these 3 dependent variables indicates that they are statistically significant"
   ]
  },
  {
   "cell_type": "markdown",
   "id": "7cbfb016-43ae-4e7a-a176-d253f0391f94",
   "metadata": {},
   "source": [
    "### Now I add in spatial weights and compare"
   ]
  },
  {
   "cell_type": "code",
   "execution_count": 10,
   "id": "0a03f8fb-0a2e-49a4-8f43-7d1ab6baadfd",
   "metadata": {},
   "outputs": [],
   "source": [
    "# create spatial weights based on the 3 nearest neighbors\n",
    "coordinates = np.column_stack((listings_4reg['longitude'], listings_4reg['latitude']))\n",
    "kd = KDTree(np.array(coordinates))\n",
    "w = KNN.from_array(kd, k=3)"
   ]
  },
  {
   "cell_type": "markdown",
   "id": "04d90794-3a4c-43dd-9706-f732f1ab0a43",
   "metadata": {},
   "source": [
    "#### Spatial two stage least squares (S2SLS) with results and diagnostics\n",
    "[link](https://spreg.readthedocs.io/en/latest/generated/spreg.GM_Lag.html) to docs"
   ]
  },
  {
   "cell_type": "code",
   "execution_count": 11,
   "id": "699580c3-9bb9-4ece-8889-01756a2a7585",
   "metadata": {},
   "outputs": [],
   "source": [
    "# add 'const' to act as intercept\n",
    "listings_4reg['const'] = 1"
   ]
  },
  {
   "cell_type": "code",
   "execution_count": 12,
   "id": "ed8d4cc9-032a-4d65-86d4-47fde67feaef",
   "metadata": {},
   "outputs": [],
   "source": [
    "explanatory_variables = ['const','accommodates', 'bath_num', 'bedrooms']\n",
    "reg_wGEO = spreg.GM_Lag(listings_4reg['price'].values[:, None],\n",
    "                        listings_4reg[explanatory_variables].values,\n",
    "                        w=w,\n",
    "                        name_x=explanatory_variables,\n",
    "                        name_y='price')"
   ]
  },
  {
   "cell_type": "code",
   "execution_count": 13,
   "id": "52da0620-6b7f-46ce-94c3-c003d8626142",
   "metadata": {},
   "outputs": [
    {
     "name": "stdout",
     "output_type": "stream",
     "text": [
      "REGRESSION\n",
      "----------\n",
      "SUMMARY OF OUTPUT: SPATIAL TWO STAGE LEAST SQUARES\n",
      "--------------------------------------------------\n",
      "Data set            :     unknown\n",
      "Weights matrix      :     unknown\n",
      "Dependent Variable  :       price                Number of Observations:        3343\n",
      "Mean dependent var  :    196.1891                Number of Variables   :           5\n",
      "S.D. dependent var  :    268.9393                Degrees of Freedom    :        3338\n",
      "Pseudo R-squared    :      0.1674\n",
      "Spatial Pseudo R-squared:  0.1703\n",
      "\n",
      "------------------------------------------------------------------------------------\n",
      "            Variable     Coefficient       Std.Error     z-Statistic     Probability\n",
      "------------------------------------------------------------------------------------\n",
      "            CONSTANT     -20.9641236      14.4156888      -1.4542575       0.1458749\n",
      "        accommodates      30.9812154       2.6183262      11.8324505       0.0000000\n",
      "            bath_num      77.6544394       7.8313498       9.9158435       0.0000000\n",
      "            bedrooms      11.8370416       4.3112179       2.7456375       0.0060393\n",
      "             W_price      -0.0058832       0.0193833      -0.3035194       0.7614940\n",
      "------------------------------------------------------------------------------------\n",
      "Instrumented: W_price\n",
      "Instruments: W_accommodates, W_bath_num, W_bedrooms\n",
      "Warning: Variable(s) ['const'] removed for being constant.\n",
      "================================ END OF REPORT =====================================\n"
     ]
    }
   ],
   "source": [
    "print(reg_wGEO.summary)"
   ]
  },
  {
   "cell_type": "markdown",
   "id": "af913d77-ea45-4295-8bf6-7b9e66b62aa0",
   "metadata": {},
   "source": [
    "## Analysis\n",
    "- Null hypothesis: There is no relationship between the prices of AirBnB listings and the prices of nearby AirBnB listings.\n",
    "- Alt hypothesis: There is a spatial relationship between the prices of AirBnB listings and the prices of nearby AirBnB listings.\n",
    "\n",
    "1. P-Value of the spatial weight coefficient is .76\n",
    "    - This indicates that there is a high probability (76%) that the observed results could have occurred by chance alone.\n",
    "    - In other words: We fail to reject the null hypothesis, and we can assume that there is no relationship between the prices of Boston AirBnB listings and the prices of nearby AirBnB listings.\n",
    "\n",
    "2. Below are the mean squared errors for both a regular regression(reg) and a spatial regression(reg_wGEO) using the same explanatory variables.\n",
    "    - After adding spatial weights, the MSE increases by a small amount\n",
    "        - This implies that adding the spatial correlation component does not reduce the variation in our predictions.\n",
    "        - Instead, the addition actually increases the variation slightly, making for a worse prediction. "
   ]
  },
  {
   "cell_type": "code",
   "execution_count": 14,
   "id": "8da36166-b08b-4e46-a4c3-29cf13009141",
   "metadata": {},
   "outputs": [],
   "source": [
    "# get the predicted values of the dependent variable from the regression model\n",
    "y_pred = reg.predict()\n",
    "\n",
    "# get the actual values of the dependent variable from the original data\n",
    "y_true = listings_4reg['price']\n",
    "\n",
    "# calculate the mean squared error\n",
    "mse = mean_squared_error(y_true, y_pred)"
   ]
  },
  {
   "cell_type": "code",
   "execution_count": 15,
   "id": "637b42f7-dd45-4476-bc2d-c38be1420160",
   "metadata": {},
   "outputs": [
    {
     "data": {
      "text/plain": [
       "59995.609356723544"
      ]
     },
     "execution_count": 15,
     "metadata": {},
     "output_type": "execute_result"
    }
   ],
   "source": [
    "mse"
   ]
  },
  {
   "cell_type": "code",
   "execution_count": 16,
   "id": "532ef585-7316-433c-a334-800143651933",
   "metadata": {},
   "outputs": [],
   "source": [
    "# get the predicted values of the dependent variable from the spatial regression model\n",
    "y_pred = reg_wGEO.predy.flatten()\n",
    "\n",
    "# get the actual values of the dependent variable from the original data\n",
    "y_true = listings_4reg['price']\n",
    "\n",
    "# calculate the mean squared error\n",
    "mse_w = mean_squared_error(y_true, y_pred)"
   ]
  },
  {
   "cell_type": "code",
   "execution_count": 17,
   "id": "862be00c-157a-469a-86f0-e5a33d0bd394",
   "metadata": {},
   "outputs": [
    {
     "data": {
      "text/plain": [
       "60204.229004777815"
      ]
     },
     "execution_count": 17,
     "metadata": {},
     "output_type": "execute_result"
    }
   ],
   "source": [
    "mse_w"
   ]
  }
 ],
 "metadata": {
  "kernelspec": {
   "display_name": "Python 3 (ipykernel)",
   "language": "python",
   "name": "python3"
  },
  "language_info": {
   "codemirror_mode": {
    "name": "ipython",
    "version": 3
   },
   "file_extension": ".py",
   "mimetype": "text/x-python",
   "name": "python",
   "nbconvert_exporter": "python",
   "pygments_lexer": "ipython3",
   "version": "3.9.16"
  }
 },
 "nbformat": 4,
 "nbformat_minor": 5
}
